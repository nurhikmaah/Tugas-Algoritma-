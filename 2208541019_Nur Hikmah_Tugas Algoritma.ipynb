{
 "cells": [
  {
   "cell_type": "markdown",
   "id": "5d9dcef6",
   "metadata": {},
   "source": [
    "# 5.11 While loop"
   ]
  },
  {
   "cell_type": "markdown",
   "id": "8b9dd07d",
   "metadata": {},
   "source": [
    "While loop akan selalu dieksekusi selama nilainya True dan akan berhenti saat nilainya menjadi False."
   ]
  },
  {
   "cell_type": "code",
   "execution_count": null,
   "id": "c4d9cdfc",
   "metadata": {},
   "outputs": [],
   "source": [
    "#pada percobaan ini terlihat bahwa tidak menampilkan hasil dari percobaan yang saya lakukan\n",
    "#hal ini dikarenakan persyaratan yang diberikan pada while kan x < 2 hasilnya akan menjauh dari 2 bukannya mendekat ke 2\n",
    "#namun jika kita meletakkan print(x) dan print(y) di dalam while hal ini akan menampilkan hasil yang sangat banyak.\n",
    "x = 0\n",
    "while x < 2:\n",
    "    y = x**2\n",
    "    x = x-1\n",
    "print (y) \n",
    "print (x)"
   ]
  },
  {
   "cell_type": "code",
   "execution_count": null,
   "id": "0ad1a514",
   "metadata": {},
   "outputs": [],
   "source": [
    "#nah dari percobaan ini terlihat print(x) dan print (y) diletakkan di dalam while.\n",
    "#angka yang di cetak akan berurutan\n",
    "x = 0\n",
    "while x < 10:\n",
    "    x += 2\n",
    "    y = x % 2\n",
    "    print (x)\n",
    "    print (y)"
   ]
  },
  {
   "cell_type": "code",
   "execution_count": null,
   "id": "434e9a22",
   "metadata": {},
   "outputs": [],
   "source": [
    "#sedangkan pada percobaan ini print(x) dan print(y) terdapat di luar while\n",
    "#angka yang di cetak hanya hasil akhir dari x dan y saja.\n",
    "x = 0\n",
    "while x < 10:\n",
    "    x += 2\n",
    "    y = x % 2\n",
    "print (x)\n",
    "print (y)"
   ]
  },
  {
   "cell_type": "code",
   "execution_count": null,
   "id": "e8d5d782",
   "metadata": {},
   "outputs": [],
   "source": [
    "y = 3\n",
    "while y <= 20:\n",
    "    y = y % 2\n",
    "    y += 1\n",
    "print (y)"
   ]
  },
  {
   "cell_type": "code",
   "execution_count": 1,
   "id": "6cec71f3",
   "metadata": {},
   "outputs": [
    {
     "name": "stdout",
     "output_type": "stream",
     "text": [
      "3\n",
      "6\n",
      "9\n",
      "12\n"
     ]
    }
   ],
   "source": [
    "y = 0\n",
    "while y <10:\n",
    "    y += 3\n",
    "    print (y)"
   ]
  },
  {
   "cell_type": "markdown",
   "id": "500e17da",
   "metadata": {},
   "source": [
    "# 5.12 List di Python"
   ]
  },
  {
   "cell_type": "markdown",
   "id": "4e82ea5d",
   "metadata": {},
   "source": [
    "List dapat digunakan saat kita akan merepresentasikan objek di dalam Python baik berupa string maupun berupa angka. Ini akan banyak digunakan pada saat kita mengolah data pada Python. List dapat dipanggil urutannya, bahkan isinya dapat dirubah."
   ]
  },
  {
   "cell_type": "code",
   "execution_count": 1,
   "id": "748feeb3",
   "metadata": {},
   "outputs": [
    {
     "name": "stdout",
     "output_type": "stream",
     "text": [
      "['mangga', 'pisang', 'apel', 'manggis']\n",
      "mangga\n",
      "pisang\n",
      "apel\n",
      "manggis\n",
      "['mangga', 'anggur', 'apel', 'manggis']\n",
      "['mangga', 'anggur', 'apel', 'manggis']\n"
     ]
    }
   ],
   "source": [
    "#setiap list yang akan dimasukan harus berisi string\n",
    "buah = ['mangga', 'pisang', 'apel', 'manggis']\n",
    "print (buah)\n",
    "#cara ini di gunakan untuk memenaggil sebuah string dengan menggunakan angka vektor, yang akan di mulai dari angka 0 dari sebelah kiri\n",
    "print (buah [0])\n",
    "print (buah [1])\n",
    "#cara ini digunakan untuk memanggil sebuah string dengan menggunkan angka vektor yang dimulai dari angka -1 dari sebelah kanan\n",
    "print (buah [-2])\n",
    "print (buah [-1])\n",
    "#cara ini digunakan jika anda ingin mengganti sebuah string dengan yang lainnya\n",
    "buah [1] = 'anggur'\n",
    "print(buah)\n",
    "#cara ini digunakan untuk memanggil string dari awal sampe batas yang ditentukan, tentunya dengan angka vektor juga.\n",
    "print (buah[0:4])"
   ]
  },
  {
   "cell_type": "code",
   "execution_count": 6,
   "id": "df5d9a69",
   "metadata": {},
   "outputs": [
    {
     "name": "stdout",
     "output_type": "stream",
     "text": [
      "['mangga, pisang, apel, manggis']\n"
     ]
    },
    {
     "ename": "IndexError",
     "evalue": "list index out of range",
     "output_type": "error",
     "traceback": [
      "\u001b[1;31m---------------------------------------------------------------------------\u001b[0m",
      "\u001b[1;31mIndexError\u001b[0m                                Traceback (most recent call last)",
      "\u001b[1;32m~\\AppData\\Local\\Temp\\ipykernel_4644\\2898519721.py\u001b[0m in \u001b[0;36m<module>\u001b[1;34m\u001b[0m\n\u001b[0;32m      1\u001b[0m \u001b[0mbuah\u001b[0m \u001b[1;33m=\u001b[0m \u001b[1;33m[\u001b[0m\u001b[1;34m'mangga, pisang, apel, manggis'\u001b[0m\u001b[1;33m]\u001b[0m\u001b[1;33m\u001b[0m\u001b[1;33m\u001b[0m\u001b[0m\n\u001b[0;32m      2\u001b[0m \u001b[0mprint\u001b[0m \u001b[1;33m(\u001b[0m\u001b[0mbuah\u001b[0m\u001b[1;33m)\u001b[0m\u001b[1;33m\u001b[0m\u001b[1;33m\u001b[0m\u001b[0m\n\u001b[1;32m----> 3\u001b[1;33m \u001b[0mprint\u001b[0m \u001b[1;33m(\u001b[0m\u001b[0mbuah\u001b[0m \u001b[1;33m[\u001b[0m\u001b[1;36m1\u001b[0m\u001b[1;33m]\u001b[0m\u001b[1;33m)\u001b[0m\u001b[1;33m\u001b[0m\u001b[1;33m\u001b[0m\u001b[0m\n\u001b[0m",
      "\u001b[1;31mIndexError\u001b[0m: list index out of range"
     ]
    }
   ],
   "source": [
    "buah = ['mangga, pisang, apel, manggis']\n",
    "print (buah)\n",
    "#pada percobaan ini terlihat eror, dikarenka tidak terdapatnya string pada masing-masing kata\n",
    "#karena jika anda hanya mengisi string pada awal dan akhir kalimat seperti yang di atas tersebut.\n",
    "#maka di saat anda akan menggil suatu string dengan menggukan angka vektor hasilnya akan eror akan tidak terbaca\n",
    "print (buah [1])"
   ]
  },
  {
   "cell_type": "code",
   "execution_count": 3,
   "id": "5274dffe",
   "metadata": {},
   "outputs": [
    {
     "name": "stdout",
     "output_type": "stream",
     "text": [
      "Hikmah menyukai warna biru\n",
      "Perubahan warna ada di bawah ini:\n",
      "['hitam', 'biru', 'putih']\n",
      "Ternyata Hani menyukai warna putih bukan warna abu\n",
      "Adin sangat menyukai warna hitam\n"
     ]
    }
   ],
   "source": [
    "nama = ['Hikmah', 'Hani', 'Adin']\n",
    "warna = ['hitam', 'biru', 'abu']\n",
    "print (nama[0] + \" menyukai warna \" + warna [1])\n",
    "print (\"Perubahan warna ada di bawah ini:\")\n",
    "warna [2] = 'putih'\n",
    "print (warna)\n",
    "print ( \"Ternyata \" + nama [1] + \" menyukai warna \" + warna [2] + \" bukan warna abu\")\n",
    "print (nama [2] + \" sangat menyukai warna \" + warna [0])"
   ]
  },
  {
   "cell_type": "markdown",
   "id": "8b75a56c",
   "metadata": {},
   "source": [
    "# 5.13 Metoda List"
   ]
  },
  {
   "cell_type": "markdown",
   "id": "20dc4258",
   "metadata": {},
   "source": [
    "Karena list merupakan objek, maka keberadaannya dapat dimanipulasi dengan menambahkan atau menghilangkan isi nya."
   ]
  },
  {
   "cell_type": "code",
   "execution_count": 6,
   "id": "b8e1f8f3",
   "metadata": {},
   "outputs": [
    {
     "name": "stdout",
     "output_type": "stream",
     "text": [
      "['Hikmah', 'Hani', 'Adin', 'Indah']\n",
      "['Fatma', 'Hikmah', 'Hani', 'Adin', 'Indah']\n",
      "['Fatma', 'Hani', 'Adin', 'Indah']\n",
      "False\n",
      "4\n"
     ]
    }
   ],
   "source": [
    "#metode ini digunakan untuk menambahkan isi di dalam listnya\n",
    "nama = ['Hikmah','Hani','Adin']\n",
    "nama.append ('Indah')\n",
    "print (nama)\n",
    "#pada metode ini digunakan untuk menambahkan isi di dalam listnya dengan urutan list yang diinginkan\n",
    "nama.insert (0,'Fatma')\n",
    "print (nama)\n",
    "#nah jika anda ingin menghilangkan salah satu list yang ada, anda bisa menggunakan metode ini\n",
    "nama.remove ('Hikmah')\n",
    "print (nama)\n",
    "#metode ini di gunakan jika anda ingin memastikan jika suatu list yang anda cari itu ada atau tidak\n",
    "#jika list tersebut ada maka akan bernilai true dan jika tidak ada maka akan bernilai false\n",
    "print ('Hikmah' in nama)\n",
    "#metode len ini digunakan untuk mengetahui banyak list yang ada\n",
    "print (len(nama))"
   ]
  },
  {
   "cell_type": "code",
   "execution_count": 4,
   "id": "5452a2dc",
   "metadata": {},
   "outputs": [
    {
     "name": "stdout",
     "output_type": "stream",
     "text": [
      "['durian', 'ceri', 'anggur', 'mangga']\n"
     ]
    }
   ],
   "source": [
    "buah = ['apel','ceri','anggur']\n",
    "buah.append ('mangga')\n",
    "buah.remove ('apel')\n",
    "buah.insert (0,'durian')\n",
    "print (buah)"
   ]
  },
  {
   "cell_type": "code",
   "execution_count": 10,
   "id": "407e0968",
   "metadata": {},
   "outputs": [
    {
     "ename": "TypeError",
     "evalue": "insert expected 2 arguments, got 3",
     "output_type": "error",
     "traceback": [
      "\u001b[1;31m---------------------------------------------------------------------------\u001b[0m",
      "\u001b[1;31mTypeError\u001b[0m                                 Traceback (most recent call last)",
      "\u001b[1;32m~\\AppData\\Local\\Temp\\ipykernel_7140\\1270336766.py\u001b[0m in \u001b[0;36m<module>\u001b[1;34m\u001b[0m\n\u001b[1;32m----> 1\u001b[1;33m \u001b[0mbuah\u001b[0m\u001b[1;33m.\u001b[0m\u001b[0minsert\u001b[0m \u001b[1;33m(\u001b[0m\u001b[1;36m0\u001b[0m\u001b[1;33m,\u001b[0m\u001b[1;36m2\u001b[0m\u001b[1;33m,\u001b[0m\u001b[1;34m'ayam'\u001b[0m\u001b[1;33m)\u001b[0m\u001b[1;33m\u001b[0m\u001b[1;33m\u001b[0m\u001b[0m\n\u001b[0m\u001b[0;32m      2\u001b[0m \u001b[0mprint\u001b[0m \u001b[1;33m(\u001b[0m\u001b[0mbuah\u001b[0m\u001b[1;33m)\u001b[0m\u001b[1;33m\u001b[0m\u001b[1;33m\u001b[0m\u001b[0m\n",
      "\u001b[1;31mTypeError\u001b[0m: insert expected 2 arguments, got 3"
     ]
    }
   ],
   "source": [
    "buah.insert (0,2,'ayam')\n",
    "print (buah)"
   ]
  },
  {
   "cell_type": "markdown",
   "id": "ea4049fa",
   "metadata": {},
   "source": [
    "# 5.14 For loop"
   ]
  },
  {
   "cell_type": "markdown",
   "id": "ebf4144f",
   "metadata": {},
   "source": [
    "For loop dapat digunakan untuk memanggil semua isi list.\n"
   ]
  },
  {
   "cell_type": "code",
   "execution_count": 7,
   "id": "709d29f9",
   "metadata": {},
   "outputs": [
    {
     "name": "stdout",
     "output_type": "stream",
     "text": [
      "manggis\n",
      "apel\n",
      "anggur\n",
      "ceri\n"
     ]
    }
   ],
   "source": [
    "#nah pada for loop ini kita tidak bisa mencoba seperti bentuk while sebelumnya.\n",
    "#di for loop ini identik dengan kalimat 'in' seperti contoh di bawah ini\n",
    "buah = ['manggis', 'apel', 'anggur', 'ceri']\n",
    "for jenis in buah:\n",
    "    print (jenis)"
   ]
  },
  {
   "cell_type": "code",
   "execution_count": 2,
   "id": "246447f9",
   "metadata": {},
   "outputs": [
    {
     "ename": "SyntaxError",
     "evalue": "invalid syntax (2025836105.py, line 2)",
     "output_type": "error",
     "traceback": [
      "\u001b[1;36m  File \u001b[1;32m\"C:\\Users\\USER\\AppData\\Local\\Temp\\ipykernel_11016\\2025836105.py\"\u001b[1;36m, line \u001b[1;32m2\u001b[0m\n\u001b[1;33m    for x < 2:\u001b[0m\n\u001b[1;37m             ^\u001b[0m\n\u001b[1;31mSyntaxError\u001b[0m\u001b[1;31m:\u001b[0m invalid syntax\n"
     ]
    }
   ],
   "source": [
    "#ini contohnya disaat kita mencoba memakai for pada percobaan yang seharusnya kita menggunkan while hasilnya akan eror\n",
    "#dapat di lihat pada percobaan di bawah ini\n",
    "x = 0\n",
    "for x < 2:\n",
    "    y = x**2\n",
    "    x = x-1\n",
    "print (y) \n",
    "print (x)"
   ]
  },
  {
   "cell_type": "markdown",
   "id": "9c48b4d1",
   "metadata": {},
   "source": [
    "# 5.15 Fungsi Range"
   ]
  },
  {
   "cell_type": "markdown",
   "id": "3ce45564",
   "metadata": {},
   "source": [
    "Fungsi range berguna untuk membangkitkan bilangan berurutan atau berpola yang kita inginkan. Untuk menuliskannya, perlu dikombinasikan dengan for,"
   ]
  },
  {
   "cell_type": "code",
   "execution_count": 12,
   "id": "34621ed1",
   "metadata": {},
   "outputs": [
    {
     "name": "stdout",
     "output_type": "stream",
     "text": [
      "range(0, 10)\n"
     ]
    }
   ],
   "source": [
    "#nah di range ini tuh memudahkan kita untuk tidak usah membuat list angka lagi,karena cukup \n",
    "angka = range (10)\n",
    "print (angka)"
   ]
  },
  {
   "cell_type": "code",
   "execution_count": 13,
   "id": "58d3b40d",
   "metadata": {},
   "outputs": [
    {
     "name": "stdout",
     "output_type": "stream",
     "text": [
      "0\n",
      "1\n",
      "2\n",
      "3\n",
      "4\n",
      "5\n",
      "6\n",
      "7\n",
      "8\n",
      "9\n"
     ]
    }
   ],
   "source": [
    "#pada range ini kita juga bisa mekombinasikan for namun tidak dengan while \n",
    "#karena jika kita mekonbinasikan range dengan while akan menyebabkan eror\n",
    "for angka in range (10):\n",
    "    print (angka)"
   ]
  },
  {
   "cell_type": "code",
   "execution_count": 15,
   "id": "990d3bd1",
   "metadata": {},
   "outputs": [
    {
     "name": "stdout",
     "output_type": "stream",
     "text": [
      "100\n",
      "101\n",
      "102\n",
      "103\n",
      "104\n",
      "105\n",
      "106\n",
      "107\n",
      "108\n",
      "109\n",
      "110\n",
      "111\n",
      "112\n",
      "113\n",
      "114\n",
      "115\n",
      "116\n",
      "117\n",
      "118\n",
      "119\n",
      "120\n",
      "121\n",
      "122\n"
     ]
    }
   ],
   "source": [
    "for isi in range (100,123):\n",
    "    print (isi)"
   ]
  },
  {
   "cell_type": "code",
   "execution_count": 6,
   "id": "0fcdf942",
   "metadata": {},
   "outputs": [
    {
     "name": "stdout",
     "output_type": "stream",
     "text": [
      "0\n",
      "1\n",
      "2\n"
     ]
    }
   ],
   "source": [
    "for angka in range (0,3):\n",
    "    print (angka)"
   ]
  },
  {
   "cell_type": "code",
   "execution_count": 3,
   "id": "0ee48142",
   "metadata": {},
   "outputs": [
    {
     "name": "stdout",
     "output_type": "stream",
     "text": [
      "0\n",
      "3\n",
      "6\n",
      "9\n"
     ]
    }
   ],
   "source": [
    "for angka in range (0,10,3):\n",
    "    print (angka)"
   ]
  },
  {
   "cell_type": "code",
   "execution_count": 3,
   "id": "b37c8e70",
   "metadata": {},
   "outputs": [
    {
     "ename": "NameError",
     "evalue": "name 'angka' is not defined",
     "output_type": "error",
     "traceback": [
      "\u001b[1;31m---------------------------------------------------------------------------\u001b[0m",
      "\u001b[1;31mNameError\u001b[0m                                 Traceback (most recent call last)",
      "\u001b[1;32m~\\AppData\\Local\\Temp\\ipykernel_11016\\794014179.py\u001b[0m in \u001b[0;36m<module>\u001b[1;34m\u001b[0m\n\u001b[1;32m----> 1\u001b[1;33m \u001b[1;32mwhile\u001b[0m \u001b[0mangka\u001b[0m \u001b[1;32min\u001b[0m \u001b[0mrange\u001b[0m \u001b[1;33m(\u001b[0m\u001b[1;36m3\u001b[0m\u001b[1;33m)\u001b[0m\u001b[1;33m:\u001b[0m\u001b[1;33m\u001b[0m\u001b[1;33m\u001b[0m\u001b[0m\n\u001b[0m\u001b[0;32m      2\u001b[0m     \u001b[0mprint\u001b[0m \u001b[1;33m(\u001b[0m\u001b[0mangka\u001b[0m\u001b[1;33m)\u001b[0m\u001b[1;33m\u001b[0m\u001b[1;33m\u001b[0m\u001b[0m\n",
      "\u001b[1;31mNameError\u001b[0m: name 'angka' is not defined"
     ]
    }
   ],
   "source": [
    "#nah pada percobaan ini saya mencoba dengan menggunakan while, namun hasilnya eror \n",
    "#karena range hanya bisa dikombinasikan dengan for \n",
    "#seperti pada contoh for sebelumnya saya menggunakan for ke dalam contoh while yang saya coba, nmaun hasilnya eror\n",
    "while angka in range (3):\n",
    "    print (angka)"
   ]
  },
  {
   "cell_type": "code",
   "execution_count": null,
   "id": "79694428",
   "metadata": {},
   "outputs": [],
   "source": []
  }
 ],
 "metadata": {
  "kernelspec": {
   "display_name": "Python 3 (ipykernel)",
   "language": "python",
   "name": "python3"
  },
  "language_info": {
   "codemirror_mode": {
    "name": "ipython",
    "version": 3
   },
   "file_extension": ".py",
   "mimetype": "text/x-python",
   "name": "python",
   "nbconvert_exporter": "python",
   "pygments_lexer": "ipython3",
   "version": "3.9.13"
  }
 },
 "nbformat": 4,
 "nbformat_minor": 5
}
