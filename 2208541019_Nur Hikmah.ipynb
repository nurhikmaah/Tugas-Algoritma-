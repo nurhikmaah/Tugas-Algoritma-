{
 "cells": [
  {
   "cell_type": "markdown",
   "id": "29c02ba0",
   "metadata": {},
   "source": [
    "# 5.5 Strings Index"
   ]
  },
  {
   "cell_type": "code",
   "execution_count": 18,
   "id": "47ef1655",
   "metadata": {},
   "outputs": [
    {
     "name": "stdout",
     "output_type": "stream",
     "text": [
      "Saya sedang belajar Mata Kuliah Algoritma dan Struktur Data\n"
     ]
    }
   ],
   "source": [
    "#pada string index kita bisa mencetak sebuah kalimat hanya dengan memasukan nomor huruf yang sudah dihitung.\n",
    "#tetapi dihitungnya bukan di mulai dari angka satu, namun di mulai dari angka nol.\n",
    "#kita juga bisa mencetak kalimat dengan memasukan dengan bentuk seperti ini (kata [25:]).\n",
    "#nah hal tersebut akan mengakibatkan tercetaknya sebuah kalimat dari angka yang kalian berikan sampai pada klaimat terakhir.\n",
    "kata = 'Mata Kuliah Algoritma dan Struktur Data'\n",
    "print (\"Saya sedang belajar \" + kata [0 :11] + kata [11:22] + kata [22:25] + kata [25:] )"
   ]
  },
  {
   "cell_type": "code",
   "execution_count": 19,
   "id": "01c9e5fd",
   "metadata": {},
   "outputs": [
    {
     "name": "stdout",
     "output_type": "stream",
     "text": [
      "Aku belajar mata kuliah Algoritma dan Struktur Data pada jam 08:30.\n"
     ]
    }
   ],
   "source": [
    "matkul = 'Algoritma dan Struktur Data'\n",
    "print (\"Aku belajar mata kuliah \" + matkul [0:5] + matkul [5:12] + matkul [12:22] + matkul [22:] + \" pada jam 08:30.\")"
   ]
  },
  {
   "cell_type": "code",
   "execution_count": 20,
   "id": "7aa72e76",
   "metadata": {},
   "outputs": [
    {
     "name": "stdout",
     "output_type": "stream",
     "text": [
      "Hallo!!\n",
      "Nama saya Nur Hikmah\n",
      "Saya biasa dipanggil Hikmah\n",
      "Salam kenal semuanyaa :)\n",
      "Terimakasih\n"
     ]
    }
   ],
   "source": [
    "nama = 'Nur Hikmah'\n",
    "print (\"Hallo!!\")\n",
    "print (\"Nama saya \" + nama [0:])\n",
    "print (\"Saya biasa dipanggil \" + nama [4:])\n",
    "print (\"Salam kenal semuanyaa :)\")\n",
    "print (\"Terimakasih\")"
   ]
  },
  {
   "cell_type": "code",
   "execution_count": 21,
   "id": "410b9738",
   "metadata": {},
   "outputs": [
    {
     "name": "stdout",
     "output_type": "stream",
     "text": [
      "Saya mahasiswa dengan NIM sebagai berikut\n",
      "2208541019\n"
     ]
    }
   ],
   "source": [
    "#pada string index ini kita bisa mencetak sebuah kalimat dari sebuah huruf yang acak\n",
    "#(angka [3:-1:4]) pada angka 3 merupakan huruf/angka pertama yang akan diprint, pada angka -1 merupakan pada huruf/angka terakhir yang akan diprint\n",
    "#pada angka 4 merupakan batas atau jarak huruf/angka yang akan diprint\n",
    "NIM = print (\"Saya mahasiswa dengan NIM sebagai berikut\")\n",
    "angka = '13423572335045384525123406712250356122598'\n",
    "print (angka [3:-1:4])"
   ]
  },
  {
   "cell_type": "markdown",
   "id": "94fb5a70",
   "metadata": {},
   "source": [
    "# 5.6 Strings Methods"
   ]
  },
  {
   "cell_type": "code",
   "execution_count": 22,
   "id": "7017920c",
   "metadata": {},
   "outputs": [
    {
     "name": "stdout",
     "output_type": "stream",
     "text": [
      "21\n",
      "LEGENDA BATU MENANGIS\n",
      "legenda batu menangis\n",
      "8\n",
      "13\n"
     ]
    }
   ],
   "source": [
    "#disaat kalian ingin menggunakan suatu metode ingatlah untuk selalu menggunakan tanda () setelah sintaks pada metode tersebut.\n",
    "#seperti pada print (judul.upper()) dan print (judul.lower()) jika tidak ada tanda () hal tersebut akan mengakibatkan eror\n",
    "#jadi harus hati-hati\n",
    "#nah harus inget pada metode (judul.find ()) kata pada tanda () setelah kata find itu harus diisi tanda \" \" atau ' '\n",
    "#karena kalau gak isi tanda tersebut akan mengakibatkan eror tidak bisa di baca oleh sistemnya.\n",
    "#selalu inget itu kalau kamu pernah eror disana\n",
    "judul = 'Legenda Batu Menangis'\n",
    "#metode ini bisa digunakan untuk mengetahui jumlah huruf yang dimana dimulai dari 0\n",
    "print (len(judul))\n",
    "#metode ini digunakan untuk mengubah sebuah kalimat menjadi huruf kapital semua\n",
    "print (judul.upper())\n",
    "#metode ini bisa digunkan untuk mengubah sebuah kalimat menjadi huruf kecil semua\n",
    "print (judul.lower())\n",
    "#metode ini bisa digunakan untuk mengetahui angka kalimat yang akan kalin cari\n",
    "print (judul.find('Batu'))\n",
    "print (judul.find('Menangis'))"
   ]
  },
  {
   "cell_type": "code",
   "execution_count": 23,
   "id": "00175143",
   "metadata": {},
   "outputs": [
    {
     "name": "stdout",
     "output_type": "stream",
     "text": [
      "-1\n",
      "6\n",
      "-1\n",
      "Sapi, Kambing, Kucing\n",
      "False\n",
      "False\n",
      "True\n"
     ]
    }
   ],
   "source": [
    "hewan = 'Sapi, Ayam, Kucing'\n",
    "#pada metode ini kita bisa gunakan untuk mengetahui apakah kata yang kita cari terdapat pada pernyataaan sebelumnya\n",
    "#dibawah ini walaupun 'ayam' emang terdapat pada pernyataan yang diketahui namun akan mengahsilkan -1\n",
    "#karena pada contoh dibawah ini penulisan kata 'ayam' tidak sesuai dengan penulisan kata 'ayam' pada pernyataan sebelumnya\n",
    "print (hewan.find('AYAM'))\n",
    "print (hewan.find('Ayam'))\n",
    "print (hewan.find('Bebek'))\n",
    "#metode ini dapat digunakan untuk mengaganti kata yang ingin kalian ganti\n",
    "print (hewan.replace('Ayam' , 'Kambing'))\n",
    "#nah disaat kalian menggunakan metode ini kalian akan mengetahui apa benar atau tidak kata yang akan kalian cari terdapat dalam pernyataan sebelumnya\n",
    "#dan penulisan katanya harus sama persis seperti pernyataan sebelumnya karena jika tidak akan menghasilkan false\n",
    "print ('bebek' in hewan)\n",
    "print ('sapi' in hewan)\n",
    "print ('Sapi' in hewan)"
   ]
  },
  {
   "cell_type": "markdown",
   "id": "7b55d0af",
   "metadata": {},
   "source": [
    "# 5.7 Operasi Matematika di Python"
   ]
  },
  {
   "cell_type": "code",
   "execution_count": 1,
   "id": "30361e9c",
   "metadata": {},
   "outputs": [
    {
     "name": "stdout",
     "output_type": "stream",
     "text": [
      "7\n",
      "3\n",
      "3000\n",
      "33.333333333333336\n",
      "33\n",
      "0\n",
      "343\n",
      "13\n",
      "10\n",
      "40\n"
     ]
    }
   ],
   "source": [
    "print (5+2)\n",
    "print (7-4)\n",
    "#pada tanda * merupakan operasi perkalian\n",
    "print (100*30)\n",
    "#pada tanda / merupakan operasi pada pembagian\n",
    "print (100/3)\n",
    "#pda tanda (//) merupakan operasi untuk pembulatan pada pembagian\n",
    "print (100//3)\n",
    "#pada tanda (%) merupakan operasi modulo(sisa bagi)\n",
    "print (30%2)\n",
    "#pada tanda (**) merupakan tanda untuk perpangkatan\n",
    "print (7**3)\n",
    "x= 11\n",
    "x+= 2\n",
    "print (x)\n",
    "x-= 3\n",
    "print (x)\n",
    "x*= 4\n",
    "print (x)"
   ]
  },
  {
   "cell_type": "code",
   "execution_count": 25,
   "id": "67954a91",
   "metadata": {},
   "outputs": [
    {
     "name": "stdout",
     "output_type": "stream",
     "text": [
      "Nilai akhir x adalah\n",
      "12\n",
      "Nilai akhir y adalah\n",
      "88\n"
     ]
    }
   ],
   "source": [
    "y = 10\n",
    "x = 20\n",
    "x+= 4\n",
    "x//=2\n",
    "y = x + 10\n",
    "y*= 4\n",
    "print (\"Nilai akhir x adalah\")\n",
    "print (x)\n",
    "print (\"Nilai akhir y adalah\")\n",
    "print (y)"
   ]
  },
  {
   "cell_type": "markdown",
   "id": "1e49337f",
   "metadata": {},
   "source": [
    "# 5.8 Operator Perbandingan di Python"
   ]
  },
  {
   "cell_type": "code",
   "execution_count": 26,
   "id": "917b64cf",
   "metadata": {},
   "outputs": [
    {
     "name": "stdout",
     "output_type": "stream",
     "text": [
      "True\n"
     ]
    }
   ],
   "source": [
    "x = 3 == 3\n",
    "print (x)"
   ]
  },
  {
   "cell_type": "code",
   "execution_count": 27,
   "id": "e716654e",
   "metadata": {},
   "outputs": [
    {
     "name": "stdout",
     "output_type": "stream",
     "text": [
      "9\n",
      "False\n"
     ]
    }
   ],
   "source": [
    "x = 10\n",
    "x+= 4\n",
    "x-=5\n",
    "print (x)\n",
    "x = x == 3\n",
    "print (x)"
   ]
  },
  {
   "cell_type": "code",
   "execution_count": 28,
   "id": "b3400ded",
   "metadata": {},
   "outputs": [
    {
     "name": "stdout",
     "output_type": "stream",
     "text": [
      "Nilai x adalah\n",
      "25\n",
      "Nilai y adalah\n",
      "35\n",
      "Nilai z adalah\n",
      "25\n",
      "True\n",
      "True\n",
      "True\n"
     ]
    }
   ],
   "source": [
    "y = 10\n",
    "x = 30\n",
    "z = 5\n",
    "x-= z\n",
    "y+= x\n",
    "z*=5\n",
    "print ('Nilai x adalah')\n",
    "print (x)\n",
    "print ('Nilai y adalah')\n",
    "print (y)\n",
    "print ('Nilai z adalah')\n",
    "print (z)\n",
    "x = x < 40\n",
    "y = y >= 15\n",
    "z = z != y\n",
    "print (x)\n",
    "print (y)\n",
    "print (z)"
   ]
  },
  {
   "cell_type": "markdown",
   "id": "cc48b177",
   "metadata": {},
   "source": [
    "# 5.9 Operator Logika di Python"
   ]
  },
  {
   "cell_type": "code",
   "execution_count": 29,
   "id": "c5917bad",
   "metadata": {},
   "outputs": [
    {
     "name": "stdout",
     "output_type": "stream",
     "text": [
      "False\n",
      "True\n",
      "False\n"
     ]
    }
   ],
   "source": [
    "#pada operator logika jika (True and False) akan mengahasilkan False\n",
    "#jika (not (True and True)) akan menghasilkan False, karena ada kata 'not' yang awalnya hasilkan akan True namun dikarenakan ada kata 'not' maka hasinya akan menjadi False\n",
    "#jika (True or False) akan menghasilkan True\n",
    "warna_favorit = 'Biru muda, hitam, grey'\n",
    "makanan_favorit = 'Mie ayam, nasi goreng, sate'\n",
    "print (not ('sate' in makanan_favorit and 'hitam' in warna_favorit))\n",
    "print ('sate' in makanan_favorit or 'rendang' in makanan_favorit)\n",
    "print ('hitam' in warna_favorit and 'biru' in warna_favorit)"
   ]
  },
  {
   "cell_type": "code",
   "execution_count": 30,
   "id": "4d76e928",
   "metadata": {},
   "outputs": [
    {
     "name": "stdout",
     "output_type": "stream",
     "text": [
      "Apakah Adi memiliki pena < 10 dan pensil > 10 ?\n",
      "False\n",
      "Apakah Adi memiliki buku <= 10 atau > 10 ?\n",
      "True\n"
     ]
    }
   ],
   "source": [
    "buku = 10\n",
    "pensil = 12\n",
    "pena = 5\n",
    "print ('Apakah Adi memiliki pena < 10 dan pensil > 10 ?') \n",
    "print (pena < 5 and pensil > 10)\n",
    "print ('Apakah Adi memiliki buku <= 10 atau > 10 ?')\n",
    "print (buku <= 10 or buku > 10)"
   ]
  },
  {
   "cell_type": "code",
   "execution_count": 31,
   "id": "6e8b0be3",
   "metadata": {},
   "outputs": [
    {
     "name": "stdout",
     "output_type": "stream",
     "text": [
      "False\n"
     ]
    }
   ],
   "source": [
    "print (not (buku < 12 and pensil > 10 and pena < 9))"
   ]
  },
  {
   "cell_type": "markdown",
   "id": "1b0df7bf",
   "metadata": {},
   "source": [
    "# 5.10 Operator if pada Python"
   ]
  },
  {
   "cell_type": "code",
   "execution_count": 32,
   "id": "d589f7bb",
   "metadata": {},
   "outputs": [
    {
     "name": "stdout",
     "output_type": "stream",
     "text": [
      "Hikmah akan membeli makanan\n",
      "Hikmah memiliki uang Rp.100000\n",
      "Hikmah bisa membeli bakso dan mie ayam\n",
      "Hikmah bisa membeli makanan apa saja yang dia inginkan\n"
     ]
    }
   ],
   "source": [
    "#pada operasi if ingat untuk mengisi int atau float sebelum anda akan menginput sebuah angka\n",
    "#karena jika anda tidak mengisi int dan float akan menyebabkan eror \n",
    "#ingkat juga untuk mengisi tanda ':' setelah pernyatan pada if, karena jika tidak ada akan menyebabkan eror\n",
    "kata = print (\"Hikmah akan membeli makanan\")\n",
    "uang = int (input (\"Hikmah memiliki uang Rp.\"))\n",
    "if uang >= 10000:\n",
    "    print (\"Hikmah bisa membeli bakso dan mie ayam\")\n",
    "if uang < 10000:\n",
    "    print (\"Hikmah bisa membeli minuman saja\")\n",
    "if uang == 100000:\n",
    "    print (\"Hikmah bisa membeli makanan apa saja yang dia inginkan\")"
   ]
  },
  {
   "cell_type": "code",
   "execution_count": 35,
   "id": "76b84c1c",
   "metadata": {},
   "outputs": [
    {
     "name": "stdout",
     "output_type": "stream",
     "text": [
      "Hikmah mengikuti sebuah lomba puisi\n",
      "Nilai yang di dapatkan Hikmah adalah 80\n",
      "Hikmah juara dua\n",
      "Juara dua tidak kalah bagus, jangan berkecil hati.\n"
     ]
    }
   ],
   "source": [
    "kata = print (\"Hikmah mengikuti sebuah lomba puisi\")\n",
    "nilai = float (input ('Nilai yang di dapatkan Hikmah adalah '))\n",
    "if nilai >= 100:\n",
    "    print (\"Hikmah mendapatkan juara satu\")\n",
    "    print (\"Wahhh itu sangat bagus, selamat.\")\n",
    "if nilai == 80:\n",
    "    print (\"Hikmah juara dua\")\n",
    "    print (\"Juara dua tidak kalah bagus, jangan berkecil hati.\")\n",
    "if nilai == 75:\n",
    "    print (\"Hikmah juara tiga\")\n",
    "    print (\"Tidak apa-apa, lebih giat lagi yaa. Semangat!!\")\n"
   ]
  },
  {
   "cell_type": "code",
   "execution_count": null,
   "id": "dbd812fb",
   "metadata": {},
   "outputs": [],
   "source": []
  }
 ],
 "metadata": {
  "kernelspec": {
   "display_name": "Python 3 (ipykernel)",
   "language": "python",
   "name": "python3"
  },
  "language_info": {
   "codemirror_mode": {
    "name": "ipython",
    "version": 3
   },
   "file_extension": ".py",
   "mimetype": "text/x-python",
   "name": "python",
   "nbconvert_exporter": "python",
   "pygments_lexer": "ipython3",
   "version": "3.9.13"
  }
 },
 "nbformat": 4,
 "nbformat_minor": 5
}
