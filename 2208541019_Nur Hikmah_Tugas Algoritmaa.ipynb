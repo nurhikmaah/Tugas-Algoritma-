{
 "cells": [
  {
   "cell_type": "markdown",
   "id": "65403755",
   "metadata": {},
   "source": [
    "# 5.16 List 2 Dimensi"
   ]
  },
  {
   "cell_type": "markdown",
   "id": "2924b612",
   "metadata": {},
   "source": [
    "List 2 dimensi pada umumnya adalah menempatkan sebuah list di dalam list. Penggambarannya seperti sebuah matrik. Berikut adlah kumpulan contoh dari list 2 dimensi."
   ]
  },
  {
   "cell_type": "code",
   "execution_count": 2,
   "id": "e4da6977",
   "metadata": {},
   "outputs": [
    {
     "name": "stdout",
     "output_type": "stream",
     "text": [
      "[[1, 2, 3], [2, 3, 4], [5, 6, 7]]\n"
     ]
    }
   ],
   "source": [
    "matriks = [\n",
    "    [1,2,3], \n",
    "    [2,3,4], \n",
    "    [5,6,7]\n",
    "]\n",
    "print (matriks)"
   ]
  },
  {
   "cell_type": "code",
   "execution_count": 3,
   "id": "ab4e0ce6",
   "metadata": {},
   "outputs": [
    {
     "data": {
      "text/plain": [
       "[5, 6, 7]"
      ]
     },
     "execution_count": 3,
     "metadata": {},
     "output_type": "execute_result"
    }
   ],
   "source": [
    "#jika anda ingin mengakses elemen dalam matriks, anda dapat menggunakan tanda kurung siku beserta indexnya agar dapat mencetak elemen yang diinginkan\n",
    "matriks [2]"
   ]
  },
  {
   "cell_type": "code",
   "execution_count": 4,
   "id": "0261f290",
   "metadata": {},
   "outputs": [
    {
     "name": "stdout",
     "output_type": "stream",
     "text": [
      "[[1, 7, 3], [2, 3, 4], [5, 6, 7]]\n"
     ]
    }
   ],
   "source": [
    "matriks [0][1] = 7\n",
    "print (matriks)"
   ]
  },
  {
   "cell_type": "code",
   "execution_count": 5,
   "id": "ee985820",
   "metadata": {},
   "outputs": [
    {
     "name": "stdout",
     "output_type": "stream",
     "text": [
      "[1, 7, 3]\n",
      "1\n",
      "7\n",
      "3\n",
      "[2, 3, 4]\n",
      "2\n",
      "3\n",
      "4\n",
      "[5, 6, 7]\n",
      "5\n",
      "6\n",
      "7\n"
     ]
    }
   ],
   "source": [
    "for baris in matriks:\n",
    "    print (baris)\n",
    "    for kolom in baris:\n",
    "        print (kolom)"
   ]
  },
  {
   "cell_type": "code",
   "execution_count": 32,
   "id": "d49cba8d",
   "metadata": {},
   "outputs": [
    {
     "data": {
      "text/plain": [
       "[[1, 7, 3], [2, 3, 4], [5, 6, 7]]"
      ]
     },
     "execution_count": 32,
     "metadata": {},
     "output_type": "execute_result"
    }
   ],
   "source": [
    "matriks"
   ]
  },
  {
   "cell_type": "code",
   "execution_count": 7,
   "id": "5c2144ee",
   "metadata": {},
   "outputs": [
    {
     "name": "stdout",
     "output_type": "stream",
     "text": [
      "[[2208541019], [2208541032], [2208541029]]\n"
     ]
    }
   ],
   "source": [
    "NIM = [\n",
    "    [2208541019],\n",
    "    [2208541032],\n",
    "    [2208541029]\n",
    "]\n",
    "print (NIM)"
   ]
  },
  {
   "cell_type": "code",
   "execution_count": 8,
   "id": "fe07e6d7",
   "metadata": {},
   "outputs": [
    {
     "data": {
      "text/plain": [
       "[2208541019]"
      ]
     },
     "execution_count": 8,
     "metadata": {},
     "output_type": "execute_result"
    }
   ],
   "source": [
    "NIM [0]"
   ]
  },
  {
   "cell_type": "code",
   "execution_count": 9,
   "id": "b1988224",
   "metadata": {},
   "outputs": [
    {
     "data": {
      "text/plain": [
       "[2208541032]"
      ]
     },
     "execution_count": 9,
     "metadata": {},
     "output_type": "execute_result"
    }
   ],
   "source": [
    "NIM [1]"
   ]
  },
  {
   "cell_type": "code",
   "execution_count": 10,
   "id": "e0438b00",
   "metadata": {},
   "outputs": [
    {
     "name": "stdout",
     "output_type": "stream",
     "text": [
      "[['matematika', 'biologi', 'fisika', 'kimia', 'farmasi', 'informatika'], ['A', 'B', 'A', 'B', 'B', 'B']]\n"
     ]
    }
   ],
   "source": [
    "prodi_fmipa = [\n",
    "    ['matematika','biologi','fisika','kimia','farmasi','informatika'],\n",
    "    ['A','B','A','B','B','B']\n",
    "]\n",
    "print (prodi_fmipa)"
   ]
  },
  {
   "cell_type": "code",
   "execution_count": 11,
   "id": "c2ace0e5",
   "metadata": {},
   "outputs": [
    {
     "name": "stdout",
     "output_type": "stream",
     "text": [
      "biologi\n",
      "B\n"
     ]
    }
   ],
   "source": [
    "print (prodi_fmipa [0][1]) #pada percobaan ini akan mencetak elemen pada baris pertama dan kolom kedua\n",
    "print (prodi_fmipa [1][1]) #pada percobaan ini akan mencetak elemen pada baris kedua dan kolom kedua"
   ]
  },
  {
   "cell_type": "code",
   "execution_count": 12,
   "id": "cb4caabc",
   "metadata": {},
   "outputs": [
    {
     "name": "stdout",
     "output_type": "stream",
     "text": [
      "matematika\n",
      "B\n"
     ]
    }
   ],
   "source": [
    "print (prodi_fmipa [0][0]) #pada percobaan ini akan mencetak pada baris pertama dan kolom pertama\n",
    "print (prodi_fmipa [1][4]) #pada percobaan ini akan mencetak pada baris kedua dan kolom keempat"
   ]
  },
  {
   "cell_type": "code",
   "execution_count": 13,
   "id": "0131f00c",
   "metadata": {},
   "outputs": [
    {
     "name": "stdout",
     "output_type": "stream",
     "text": [
      "['matematika', 'biologi', 'fisika', 'kimia', 'farmasi', 'informatika']\n",
      "matematika\n",
      "biologi\n",
      "fisika\n",
      "kimia\n",
      "farmasi\n",
      "informatika\n",
      "['A', 'B', 'A', 'B', 'B', 'B']\n",
      "A\n",
      "B\n",
      "A\n",
      "B\n",
      "B\n",
      "B\n"
     ]
    }
   ],
   "source": [
    "#cara untuk memanggil anggota pada list dua dimensi\n",
    "for baris in prodi_fmipa:\n",
    "    print (baris)\n",
    "    for kolom in baris:\n",
    "        print (kolom)"
   ]
  },
  {
   "cell_type": "markdown",
   "id": "c4d48348",
   "metadata": {},
   "source": [
    "# 5.17 Tuples"
   ]
  },
  {
   "cell_type": "markdown",
   "id": "6be89ecb",
   "metadata": {},
   "source": [
    "Tuples mirip dengan list, akan tetapi tuples tidak dapat dirubah isinya. Jika kita memiliki data yang tidak ingin dirubah isinya, kita gunakan tuples, sedangkan jika datanya masih ingin dimanipulasi kedepannya, gunakan list. Perbedaan lain yang bisa kita lihat dari tipe data tuples dan tipe data list adalah cara penulisannya. Pada tipe data tuples itu menggunakaan tanda kurung biasa dalam  menempatkan nila/anggota/elemen. Berikut ini adalah contoh penerapan tuples dalam python."
   ]
  },
  {
   "cell_type": "code",
   "execution_count": 40,
   "id": "d79b5f9e",
   "metadata": {},
   "outputs": [
    {
     "name": "stdout",
     "output_type": "stream",
     "text": [
      "0\n",
      "5\n"
     ]
    }
   ],
   "source": [
    "angka = (0,1,1,3,4,5)\n",
    "#nah untuk mengakses nilai tuples kita bisa menggunakan indeks.\n",
    "#penulisannya seperti print (nama_tuples[indeks_ke]) indeks ini dimulai dari 0 untuk mengakses anggota pertama.Selain itu kita juga bisa menggunakan nilai min(-) contohnya seperti (-1) itu akan mencetak nilai paling akhir.\n",
    "print (angka[0])\n",
    "print (angka[-1])"
   ]
  },
  {
   "cell_type": "code",
   "execution_count": 41,
   "id": "b31dbb5d",
   "metadata": {},
   "outputs": [
    {
     "name": "stdout",
     "output_type": "stream",
     "text": [
      "(0, 1, 1)\n",
      "(1, 3)\n"
     ]
    }
   ],
   "source": [
    "#pada percobaan ini kita bisa menggunakan untuk mengakses nilai tuple berdasarkan range anggota menggunakan tanda (:)\n",
    "print (angka [0:3]) #akan mencetak nilai tuples ke 1 sampai dengan ke 3\n",
    "print (angka [2:4]) #akan mencetak nilai tuples ke 3 sampai ke 4"
   ]
  },
  {
   "cell_type": "code",
   "execution_count": 42,
   "id": "56bf3d4f",
   "metadata": {},
   "outputs": [
    {
     "name": "stdout",
     "output_type": "stream",
     "text": [
      "0\n",
      "1\n",
      "1\n"
     ]
    }
   ],
   "source": [
    "for isi in angka [0:3]:\n",
    "    print (isi)"
   ]
  },
  {
   "cell_type": "code",
   "execution_count": 43,
   "id": "6a57982d",
   "metadata": {},
   "outputs": [
    {
     "ename": "TypeError",
     "evalue": "'tuple' object does not support item assignment",
     "output_type": "error",
     "traceback": [
      "\u001b[1;31m---------------------------------------------------------------------------\u001b[0m",
      "\u001b[1;31mTypeError\u001b[0m                                 Traceback (most recent call last)",
      "\u001b[1;32m~\\AppData\\Local\\Temp\\ipykernel_8016\\2461688089.py\u001b[0m in \u001b[0;36m<module>\u001b[1;34m\u001b[0m\n\u001b[1;32m----> 1\u001b[1;33m \u001b[0mangka\u001b[0m\u001b[1;33m[\u001b[0m\u001b[1;36m0\u001b[0m\u001b[1;33m]\u001b[0m \u001b[1;33m=\u001b[0m \u001b[1;36m10\u001b[0m\u001b[1;33m\u001b[0m\u001b[1;33m\u001b[0m\u001b[0m\n\u001b[0m",
      "\u001b[1;31mTypeError\u001b[0m: 'tuple' object does not support item assignment"
     ]
    }
   ],
   "source": [
    "angka[0] = 10"
   ]
  },
  {
   "cell_type": "code",
   "execution_count": 44,
   "id": "304fb62e",
   "metadata": {},
   "outputs": [
    {
     "ename": "AttributeError",
     "evalue": "'tuple' object has no attribute 'append'",
     "output_type": "error",
     "traceback": [
      "\u001b[1;31m---------------------------------------------------------------------------\u001b[0m",
      "\u001b[1;31mAttributeError\u001b[0m                            Traceback (most recent call last)",
      "\u001b[1;32m~\\AppData\\Local\\Temp\\ipykernel_8016\\550248435.py\u001b[0m in \u001b[0;36m<module>\u001b[1;34m\u001b[0m\n\u001b[1;32m----> 1\u001b[1;33m \u001b[0mangka\u001b[0m\u001b[1;33m.\u001b[0m\u001b[0mappend\u001b[0m \u001b[1;33m(\u001b[0m\u001b[1;36m10\u001b[0m\u001b[1;33m)\u001b[0m\u001b[1;33m\u001b[0m\u001b[1;33m\u001b[0m\u001b[0m\n\u001b[0m",
      "\u001b[1;31mAttributeError\u001b[0m: 'tuple' object has no attribute 'append'"
     ]
    }
   ],
   "source": [
    "angka.append (10)"
   ]
  },
  {
   "cell_type": "code",
   "execution_count": 45,
   "id": "b733ef6e",
   "metadata": {},
   "outputs": [
    {
     "ename": "AttributeError",
     "evalue": "'tuple' object has no attribute 'remove'",
     "output_type": "error",
     "traceback": [
      "\u001b[1;31m---------------------------------------------------------------------------\u001b[0m",
      "\u001b[1;31mAttributeError\u001b[0m                            Traceback (most recent call last)",
      "\u001b[1;32m~\\AppData\\Local\\Temp\\ipykernel_8016\\2298564591.py\u001b[0m in \u001b[0;36m<module>\u001b[1;34m\u001b[0m\n\u001b[1;32m----> 1\u001b[1;33m \u001b[0mangka\u001b[0m\u001b[1;33m.\u001b[0m\u001b[0mremove\u001b[0m\u001b[1;33m(\u001b[0m\u001b[1;36m5\u001b[0m\u001b[1;33m)\u001b[0m\u001b[1;33m\u001b[0m\u001b[1;33m\u001b[0m\u001b[0m\n\u001b[0m",
      "\u001b[1;31mAttributeError\u001b[0m: 'tuple' object has no attribute 'remove'"
     ]
    }
   ],
   "source": [
    "angka.remove(5)"
   ]
  },
  {
   "cell_type": "code",
   "execution_count": 46,
   "id": "3b812480",
   "metadata": {},
   "outputs": [
    {
     "data": {
      "text/plain": [
       "2"
      ]
     },
     "execution_count": 46,
     "metadata": {},
     "output_type": "execute_result"
    }
   ],
   "source": [
    "angka.count(1)"
   ]
  },
  {
   "cell_type": "code",
   "execution_count": 47,
   "id": "59220c66",
   "metadata": {},
   "outputs": [
    {
     "data": {
      "text/plain": [
       "3"
      ]
     },
     "execution_count": 47,
     "metadata": {},
     "output_type": "execute_result"
    }
   ],
   "source": [
    "angka.index(3)"
   ]
  },
  {
   "cell_type": "code",
   "execution_count": 48,
   "id": "553d96e8",
   "metadata": {},
   "outputs": [
    {
     "name": "stdout",
     "output_type": "stream",
     "text": [
      "('hikmah', 'hani', 'adin')\n"
     ]
    }
   ],
   "source": [
    "nama = ('hikmah','hani','adin')\n",
    "print (nama)"
   ]
  },
  {
   "cell_type": "code",
   "execution_count": 49,
   "id": "a1efc299",
   "metadata": {},
   "outputs": [
    {
     "name": "stdout",
     "output_type": "stream",
     "text": [
      "adin\n"
     ]
    }
   ],
   "source": [
    "print (nama[2])"
   ]
  },
  {
   "cell_type": "code",
   "execution_count": 50,
   "id": "196e5c50",
   "metadata": {},
   "outputs": [
    {
     "ename": "TypeError",
     "evalue": "'tuple' object does not support item assignment",
     "output_type": "error",
     "traceback": [
      "\u001b[1;31m---------------------------------------------------------------------------\u001b[0m",
      "\u001b[1;31mTypeError\u001b[0m                                 Traceback (most recent call last)",
      "\u001b[1;32m~\\AppData\\Local\\Temp\\ipykernel_8016\\2615973175.py\u001b[0m in \u001b[0;36m<module>\u001b[1;34m\u001b[0m\n\u001b[1;32m----> 1\u001b[1;33m \u001b[0mnama\u001b[0m \u001b[1;33m[\u001b[0m\u001b[1;36m0\u001b[0m\u001b[1;33m]\u001b[0m \u001b[1;33m=\u001b[0m \u001b[1;33m(\u001b[0m\u001b[1;34m'indah'\u001b[0m\u001b[1;33m)\u001b[0m\u001b[1;33m\u001b[0m\u001b[1;33m\u001b[0m\u001b[0m\n\u001b[0m",
      "\u001b[1;31mTypeError\u001b[0m: 'tuple' object does not support item assignment"
     ]
    }
   ],
   "source": [
    "nama [0] = ('indah')"
   ]
  },
  {
   "cell_type": "code",
   "execution_count": 51,
   "id": "b4547b63",
   "metadata": {},
   "outputs": [
    {
     "data": {
      "text/plain": [
       "1"
      ]
     },
     "execution_count": 51,
     "metadata": {},
     "output_type": "execute_result"
    }
   ],
   "source": [
    "nama.count('hikmah')"
   ]
  },
  {
   "cell_type": "code",
   "execution_count": 52,
   "id": "5c974b79",
   "metadata": {},
   "outputs": [
    {
     "ename": "AttributeError",
     "evalue": "'tuple' object has no attribute 'remove'",
     "output_type": "error",
     "traceback": [
      "\u001b[1;31m---------------------------------------------------------------------------\u001b[0m",
      "\u001b[1;31mAttributeError\u001b[0m                            Traceback (most recent call last)",
      "\u001b[1;32m~\\AppData\\Local\\Temp\\ipykernel_8016\\1259284108.py\u001b[0m in \u001b[0;36m<module>\u001b[1;34m\u001b[0m\n\u001b[1;32m----> 1\u001b[1;33m \u001b[0mnama\u001b[0m\u001b[1;33m.\u001b[0m\u001b[0mremove\u001b[0m \u001b[1;33m(\u001b[0m\u001b[1;34m'hikmah'\u001b[0m\u001b[1;33m)\u001b[0m\u001b[1;33m\u001b[0m\u001b[1;33m\u001b[0m\u001b[0m\n\u001b[0m",
      "\u001b[1;31mAttributeError\u001b[0m: 'tuple' object has no attribute 'remove'"
     ]
    }
   ],
   "source": [
    "nama.remove ('hikmah')"
   ]
  },
  {
   "cell_type": "markdown",
   "id": "1836d7f7",
   "metadata": {},
   "source": [
    "# 5.18 Dictionaries"
   ]
  },
  {
   "cell_type": "markdown",
   "id": "a10ca051",
   "metadata": {},
   "source": [
    "Dictionaries digunakan jika data nya terkait satu sama lain. Misalnya data seseorang yang terdiri dari umur, nama, tanggal lahir merupakan satu kesatuan data yang bersumber dari orang tersebut. Pada data dictionaries ini merupakan nilai yang menggunakan key dan value, maka setiap key dipisahkan dari valuenya dengan tanda (:), untuk setiap nilainya dipisahkan dengan tanda (,), dan pada awal dan akhir dari data dictionaries ini dibungkus dengan menggunakan tanda ({}). Nah, apasi itu key dan value? jadi key itu merupakan nama atribut suatu item pada dictionaries, sedangkan value itu merupakan nilai yang disimpan pada suatu atribut. Berikut ini adalah contoh penerapan dictionaries pada python."
   ]
  },
  {
   "cell_type": "code",
   "execution_count": 53,
   "id": "6f857562",
   "metadata": {},
   "outputs": [
    {
     "name": "stdout",
     "output_type": "stream",
     "text": [
      "{'nama': 'Ketut Dogler', 'umur': 12, 'apakah_single': False}\n"
     ]
    }
   ],
   "source": [
    "#pada data dictionaries untuk nilai dari valuenya bisa diisi dengan tipe data apapun contohnya seperti string, list, boolean, dll.\n",
    "#sedangkan untuk nilai dari keynya harus berupa data yang tidak berubah seperti string. \n",
    "data_orang = {\n",
    "    \"nama\" : \"Ketut Dogler\",\n",
    "    \"umur\" : 12,\n",
    "    \"apakah_single\" : False\n",
    "}\n",
    "print (data_orang)\n",
    "#nah dapat kita lihat pada percobaan di atas terdapat contoh dictionaries dengan nama (data_orang) yang berisikan (nama, umur, apakah_single)itu semua merupakan kunci (key) yang bisa kita gunakan untuk mengakses value yang ada didalamnya"
   ]
  },
  {
   "cell_type": "code",
   "execution_count": 54,
   "id": "593461bb",
   "metadata": {},
   "outputs": [
    {
     "name": "stdout",
     "output_type": "stream",
     "text": [
      "Ketut Dogler\n",
      "Ketut Dogler\n"
     ]
    }
   ],
   "source": [
    "#terdapat dua cara untuk mencetak nilai dictinaries \n",
    "#cara yang pertama dengan menggunkaan kurung siku [key] dengan menambahkan key didalamnya.\n",
    "#cara yang kedua dengan menggunakan fungsi get(key).\n",
    "print (data_orang ['nama']) #dengan cara [key]\n",
    "print (data_orang.get ('nama')) #dengan cara get(key)"
   ]
  },
  {
   "cell_type": "code",
   "execution_count": 55,
   "id": "a490189d",
   "metadata": {},
   "outputs": [
    {
     "name": "stdout",
     "output_type": "stream",
     "text": [
      "None\n"
     ]
    }
   ],
   "source": [
    "print (data_orang.get ('tanggal_lahir'))"
   ]
  },
  {
   "cell_type": "code",
   "execution_count": 56,
   "id": "cce64d09",
   "metadata": {},
   "outputs": [
    {
     "name": "stdout",
     "output_type": "stream",
     "text": [
      "02-02-2010\n"
     ]
    }
   ],
   "source": [
    "print (data_orang.get ('tanggal_lahir', '02-02-2010'))"
   ]
  },
  {
   "cell_type": "code",
   "execution_count": 57,
   "id": "dc8bee60",
   "metadata": {},
   "outputs": [
    {
     "name": "stdout",
     "output_type": "stream",
     "text": [
      "{'nama': 'Ketut Dogler', 'umur': 12, 'apakah_single': False}\n"
     ]
    }
   ],
   "source": [
    "print (data_orang)"
   ]
  },
  {
   "cell_type": "code",
   "execution_count": 58,
   "id": "3fb4a630",
   "metadata": {},
   "outputs": [
    {
     "ename": "KeyError",
     "evalue": "'tanggal_lahir'",
     "output_type": "error",
     "traceback": [
      "\u001b[1;31m---------------------------------------------------------------------------\u001b[0m",
      "\u001b[1;31mKeyError\u001b[0m                                  Traceback (most recent call last)",
      "\u001b[1;32m~\\AppData\\Local\\Temp\\ipykernel_8016\\1251861983.py\u001b[0m in \u001b[0;36m<module>\u001b[1;34m\u001b[0m\n\u001b[1;32m----> 1\u001b[1;33m \u001b[0mprint\u001b[0m \u001b[1;33m(\u001b[0m\u001b[0mdata_orang\u001b[0m \u001b[1;33m[\u001b[0m\u001b[1;34m\"tanggal_lahir\"\u001b[0m\u001b[1;33m]\u001b[0m\u001b[1;33m)\u001b[0m\u001b[1;33m\u001b[0m\u001b[1;33m\u001b[0m\u001b[0m\n\u001b[0m",
      "\u001b[1;31mKeyError\u001b[0m: 'tanggal_lahir'"
     ]
    }
   ],
   "source": [
    "print (data_orang [\"tanggal_lahir\"])"
   ]
  },
  {
   "cell_type": "code",
   "execution_count": 59,
   "id": "58d502c7",
   "metadata": {},
   "outputs": [
    {
     "name": "stdout",
     "output_type": "stream",
     "text": [
      "08123456789\n",
      "Nur Hikmah\n"
     ]
    }
   ],
   "source": [
    "#pada percobaan ini akan menambahkan dan mengubah nilai dictionariesnya dengan menggunakan cara yang sama\n",
    "#jika key yang anda definisikan sudah ada, maka akan melakukan proses update\n",
    "#sedangkan jika key yang anda definisikan tidak ada, maka akan melakukan proses penambahan nilai yang baru\n",
    "data_orang ['HP'] = '08123456789' #pada percobaan key yang di definisikan tidak ada, maka akan melakukan proses penambhaan pada nilai dictionaresnya\n",
    "print (data_orang [\"HP\"])\n",
    "data_orang ['nama'] = 'Nur Hikmah'\n",
    "print (data_orang ['nama']) #pada percobaan ini key yang di definisika terdapat pada dictionaris data_orang, maka akan melakukan proses pengubahan(update) nilainya"
   ]
  },
  {
   "cell_type": "code",
   "execution_count": 60,
   "id": "2c790b57",
   "metadata": {},
   "outputs": [
    {
     "name": "stdout",
     "output_type": "stream",
     "text": [
      "{'nama': 'Nur Hikmah', 'umur': 12, 'apakah_single': False, 'HP': '08123456789'}\n"
     ]
    }
   ],
   "source": [
    "#berikut ini adalah hasil dari proses penambahan dan pengubahan nilai pada dictionariesnya\n",
    "print (data_orang)"
   ]
  },
  {
   "cell_type": "code",
   "execution_count": 61,
   "id": "b96062db",
   "metadata": {},
   "outputs": [
    {
     "name": "stdout",
     "output_type": "stream",
     "text": [
      "{'Nama': 'Nur Hikmah', 'NIM': '2208541019', 'Matkul': 'Algoritma', 'Gender': 'Perempuan'}\n"
     ]
    }
   ],
   "source": [
    "data_mahasiswa01 = {\n",
    "    \"Nama\" : \"Nur Hikmah\",\n",
    "    \"NIM\"  : \"2208541019\",\n",
    "    \"Matkul\" : \"Algoritma\",\n",
    "    \"Gender\" : \"Perempuan\"\n",
    "}\n",
    "print (data_mahasiswa01)"
   ]
  },
  {
   "cell_type": "code",
   "execution_count": 62,
   "id": "65780b67",
   "metadata": {},
   "outputs": [
    {
     "name": "stdout",
     "output_type": "stream",
     "text": [
      "Nama saya Nur Hikmah\n",
      "Saya belajar mata kuliah Algoritma\n"
     ]
    }
   ],
   "source": [
    "print (\"Nama saya\", data_mahasiswa01 ['Nama'])\n",
    "print (\"Saya belajar mata kuliah\", data_mahasiswa01 ['Matkul'])"
   ]
  },
  {
   "cell_type": "code",
   "execution_count": 63,
   "id": "e2d3ad4f",
   "metadata": {},
   "outputs": [
    {
     "name": "stdout",
     "output_type": "stream",
     "text": [
      "Nama saya Nur Hikmah\n",
      "Saya belajar mata kuliah Algoritma\n"
     ]
    }
   ],
   "source": [
    "print (\"Nama saya\", data_mahasiswa01.get ('Nama'))\n",
    "print (\"Saya belajar mata kuliah\", data_mahasiswa01.get ('Matkul'))"
   ]
  },
  {
   "cell_type": "code",
   "execution_count": 64,
   "id": "dfbebda4",
   "metadata": {},
   "outputs": [
    {
     "name": "stdout",
     "output_type": "stream",
     "text": [
      "A\n"
     ]
    }
   ],
   "source": [
    "data_mahasiswa01 [\"Kelas\"] = 'A'\n",
    "print (data_mahasiswa01 [\"Kelas\"])"
   ]
  },
  {
   "cell_type": "code",
   "execution_count": 65,
   "id": "200f7745",
   "metadata": {},
   "outputs": [
    {
     "name": "stdout",
     "output_type": "stream",
     "text": [
      "{'Nama': 'Nur Hikmah', 'NIM': '2208541019', 'Matkul': 'Algoritma', 'Gender': 'Perempuan', 'Kelas': 'A'}\n"
     ]
    }
   ],
   "source": [
    "print (data_mahasiswa01)"
   ]
  },
  {
   "cell_type": "code",
   "execution_count": 66,
   "id": "4ee3ae76",
   "metadata": {},
   "outputs": [
    {
     "data": {
      "text/plain": [
       "'Perempuan'"
      ]
     },
     "execution_count": 66,
     "metadata": {},
     "output_type": "execute_result"
    }
   ],
   "source": [
    "data_mahasiswa01.pop(\"Gender\")"
   ]
  },
  {
   "cell_type": "code",
   "execution_count": 67,
   "id": "ac5801ad",
   "metadata": {},
   "outputs": [
    {
     "name": "stdout",
     "output_type": "stream",
     "text": [
      "{'Nama': 'Nur Hikmah', 'NIM': '2208541019', 'Matkul': 'Algoritma', 'Kelas': 'A'}\n"
     ]
    }
   ],
   "source": [
    "print (data_mahasiswa01)"
   ]
  },
  {
   "cell_type": "code",
   "execution_count": 68,
   "id": "c499a710",
   "metadata": {},
   "outputs": [
    {
     "ename": "KeyError",
     "evalue": "'Gender'",
     "output_type": "error",
     "traceback": [
      "\u001b[1;31m---------------------------------------------------------------------------\u001b[0m",
      "\u001b[1;31mKeyError\u001b[0m                                  Traceback (most recent call last)",
      "\u001b[1;32m~\\AppData\\Local\\Temp\\ipykernel_8016\\2455296792.py\u001b[0m in \u001b[0;36m<module>\u001b[1;34m\u001b[0m\n\u001b[1;32m----> 1\u001b[1;33m \u001b[0mprint\u001b[0m \u001b[1;33m(\u001b[0m\u001b[0mdata_mahasiswa01\u001b[0m \u001b[1;33m[\u001b[0m\u001b[1;34m\"Gender\"\u001b[0m\u001b[1;33m]\u001b[0m\u001b[1;33m)\u001b[0m\u001b[1;33m\u001b[0m\u001b[1;33m\u001b[0m\u001b[0m\n\u001b[0m",
      "\u001b[1;31mKeyError\u001b[0m: 'Gender'"
     ]
    }
   ],
   "source": [
    "print (data_mahasiswa01 [\"Gender\"])"
   ]
  },
  {
   "cell_type": "markdown",
   "id": "91285de5",
   "metadata": {},
   "source": [
    "# 5.19 Fungsi dalam Python"
   ]
  },
  {
   "cell_type": "markdown",
   "id": "d12fe094",
   "metadata": {},
   "source": [
    "Sampai sejauh ini tanpa disadari kita telah menerapkan beberapa jenis fungsi pada Python seperti fungsi input, print, len, range, dll. Pada dasarnya fungsi dibentuk untuk menghidari pengulangan pembuatan program secara manual dimana fungsi tersebut memiliki pengulangan yang tinggi dalam program yang kita buat. Jadi untuk mempermudah dan meringkas program yang kita buat, setiap fungsi tersebut dibutuhkan tinggal kita panggil. "
   ]
  },
  {
   "cell_type": "code",
   "execution_count": 70,
   "id": "583617c7",
   "metadata": {},
   "outputs": [],
   "source": [
    "def full_name (first_name,last_name):\n",
    "    print(f\"Nama lengkapnya adalah {first_name} {last_name}\")"
   ]
  },
  {
   "cell_type": "code",
   "execution_count": 107,
   "id": "ee044107",
   "metadata": {},
   "outputs": [
    {
     "name": "stdout",
     "output_type": "stream",
     "text": [
      "Nama depan anda adalah Nur\n",
      "Nama belakang anda adalah Hikmah\n",
      "Nama lengkapnya adalah Nur Hikmah\n"
     ]
    }
   ],
   "source": [
    "first_name = input(\"Nama depan anda adalah \")\n",
    "last_name  = input(\"Nama belakang anda adalah \")\n",
    "full_name(first_name,last_name)"
   ]
  },
  {
   "cell_type": "code",
   "execution_count": 108,
   "id": "f50c03a8",
   "metadata": {},
   "outputs": [],
   "source": [
    "def riwayat_hidup (nama, umur, status):\n",
    "    print (f\"Riwayat hidup seorang mahasiswa dengan nama {nama} berumur  {umur} berstatus sebagai {status}\")"
   ]
  },
  {
   "cell_type": "code",
   "execution_count": 109,
   "id": "3b5ec4ce",
   "metadata": {},
   "outputs": [
    {
     "name": "stdout",
     "output_type": "stream",
     "text": [
      "Nama saya Nur Hikmah\n",
      "Saya berumur 19 tahun\n",
      "Saya berstatus sebagai mahasiswa\n",
      "Riwayat hidup seorang mahasiswa dengan nama Nur Hikmah berumur  19 tahun berstatus sebagai mahasiswa\n"
     ]
    }
   ],
   "source": [
    "nama = input (\"Nama saya \")\n",
    "umur = input (\"Saya berumur \")\n",
    "status = input (\"Saya berstatus sebagai \")\n",
    "riwayat_hidup (nama,umur,status)"
   ]
  },
  {
   "cell_type": "markdown",
   "id": "4681cc5e",
   "metadata": {},
   "source": [
    "### 5.19.1 Tugas Fungsi pada Python"
   ]
  },
  {
   "cell_type": "markdown",
   "id": "114e575a",
   "metadata": {},
   "source": [
    "Fungsi pada python memiliki dua jenis tugas yaitu:\n",
    "1. Menjalankan perintah.\n",
    "2. Menampilkan hasil perhitungan"
   ]
  },
  {
   "cell_type": "code",
   "execution_count": 75,
   "id": "9af44136",
   "metadata": {},
   "outputs": [],
   "source": [
    "def waktu_sampai(jarak,kecepatan):\n",
    "    waktu = jarak/kecepatan\n",
    "    print(waktu)"
   ]
  },
  {
   "cell_type": "code",
   "execution_count": 76,
   "id": "936598f4",
   "metadata": {},
   "outputs": [],
   "source": [
    "def waktu_tempuh(jarak,kecepatan):\n",
    "    waktu = jarak/kecepatan\n",
    "    return waktu"
   ]
  },
  {
   "cell_type": "code",
   "execution_count": 77,
   "id": "e41a372f",
   "metadata": {},
   "outputs": [
    {
     "name": "stdout",
     "output_type": "stream",
     "text": [
      "1.3333333333333333\n"
     ]
    }
   ],
   "source": [
    "waktu_sampai (80,60)"
   ]
  },
  {
   "cell_type": "code",
   "execution_count": 78,
   "id": "3bee1476",
   "metadata": {},
   "outputs": [
    {
     "data": {
      "text/plain": [
       "1.3333333333333333"
      ]
     },
     "execution_count": 78,
     "metadata": {},
     "output_type": "execute_result"
    }
   ],
   "source": [
    "waktu_tempuh (80,60)"
   ]
  },
  {
   "cell_type": "code",
   "execution_count": 111,
   "id": "66f28c13",
   "metadata": {},
   "outputs": [
    {
     "name": "stdout",
     "output_type": "stream",
     "text": [
      "1.3333333333333333\n",
      "None\n"
     ]
    }
   ],
   "source": [
    "a = waktu_sampai (80,60)\n",
    "print (a)"
   ]
  },
  {
   "cell_type": "code",
   "execution_count": 80,
   "id": "7c896bf1",
   "metadata": {},
   "outputs": [
    {
     "name": "stdout",
     "output_type": "stream",
     "text": [
      "1.3333333333333333\n"
     ]
    }
   ],
   "source": [
    "b = waktu_tempuh(80,60)\n",
    "print (b)"
   ]
  },
  {
   "cell_type": "code",
   "execution_count": 93,
   "id": "1f37cb4d",
   "metadata": {},
   "outputs": [],
   "source": [
    "def luas_segitiga(alas,tinggi):\n",
    "    luas = (alas * tinggi) / 2\n",
    "    print (\"Luas segitiganya adalah \", luas)"
   ]
  },
  {
   "cell_type": "code",
   "execution_count": 94,
   "id": "b4a83be2",
   "metadata": {},
   "outputs": [
    {
     "name": "stdout",
     "output_type": "stream",
     "text": [
      "Luas segitiganya adalah  9.0\n"
     ]
    }
   ],
   "source": [
    "luas_segitiga (3,6)"
   ]
  },
  {
   "cell_type": "code",
   "execution_count": 95,
   "id": "8ba2d38a",
   "metadata": {},
   "outputs": [
    {
     "name": "stdout",
     "output_type": "stream",
     "text": [
      "Luas segitiganya adalah  9.0\n",
      "None\n"
     ]
    }
   ],
   "source": [
    "a = luas_segitiga (3,6)\n",
    "print (a)"
   ]
  },
  {
   "cell_type": "code",
   "execution_count": 98,
   "id": "1955a045",
   "metadata": {},
   "outputs": [],
   "source": [
    "def luas_segitiga(alas,tinggi):\n",
    "    luas = (alas * tinggi) / 2\n",
    "    return luas"
   ]
  },
  {
   "cell_type": "code",
   "execution_count": 99,
   "id": "61a9686b",
   "metadata": {},
   "outputs": [
    {
     "data": {
      "text/plain": [
       "9.0"
      ]
     },
     "execution_count": 99,
     "metadata": {},
     "output_type": "execute_result"
    }
   ],
   "source": [
    "luas_segitiga (3,6)"
   ]
  },
  {
   "cell_type": "code",
   "execution_count": 101,
   "id": "58d6b64a",
   "metadata": {},
   "outputs": [
    {
     "name": "stdout",
     "output_type": "stream",
     "text": [
      "9.0\n"
     ]
    }
   ],
   "source": [
    "a = luas_segitiga (3,6)\n",
    "print (a)"
   ]
  },
  {
   "cell_type": "code",
   "execution_count": 112,
   "id": "2601450f",
   "metadata": {},
   "outputs": [],
   "source": [
    "def luas_persegi_panjang(panjang,lebar):\n",
    "    luas = (panjang * lebar)\n",
    "    return luas"
   ]
  },
  {
   "cell_type": "code",
   "execution_count": 113,
   "id": "ccbdeed8",
   "metadata": {},
   "outputs": [
    {
     "data": {
      "text/plain": [
       "16"
      ]
     },
     "execution_count": 113,
     "metadata": {},
     "output_type": "execute_result"
    }
   ],
   "source": [
    "luas_persegi_panjang (8,2)"
   ]
  },
  {
   "cell_type": "markdown",
   "id": "25b6af20",
   "metadata": {},
   "source": [
    "# 5.20 Numpy"
   ]
  },
  {
   "cell_type": "markdown",
   "id": "272814cf",
   "metadata": {},
   "source": [
    "Numpy merupakan salah satu Library dalam Python yang memiliki keunggulan dalam perhitungan menggunakan vektor dan matrik dalam berbagai dimensi. Hal pertama yang perlu dilakukan adalah memanggil Library Numpy sebagai berikut:\n"
   ]
  },
  {
   "cell_type": "code",
   "execution_count": 3,
   "id": "fa542bdd",
   "metadata": {},
   "outputs": [],
   "source": [
    "import numpy as np"
   ]
  },
  {
   "cell_type": "markdown",
   "id": "c68007d6",
   "metadata": {},
   "source": [
    "### 5.20.1 Perintah Dasar pada Numpy"
   ]
  },
  {
   "cell_type": "markdown",
   "id": "1d3d25cc",
   "metadata": {},
   "source": [
    "Berikut akan dipaparkan mengenai beberapa perintah dalam Numpy diantaranya memanggil Numpy, mengetahui dimensi dan ukuran variabel. "
   ]
  },
  {
   "cell_type": "code",
   "execution_count": 3,
   "id": "3c6462ed",
   "metadata": {},
   "outputs": [
    {
     "name": "stdout",
     "output_type": "stream",
     "text": [
      "[0 1 2 3 4]\n"
     ]
    }
   ],
   "source": [
    "a = np.array ([0,1,2,3,4])\n",
    "print (a)"
   ]
  },
  {
   "cell_type": "code",
   "execution_count": 4,
   "id": "eb201149",
   "metadata": {},
   "outputs": [
    {
     "name": "stdout",
     "output_type": "stream",
     "text": [
      "[[5 6 7 8]\n",
      " [9 8 7 6]]\n"
     ]
    }
   ],
   "source": [
    "b = np.array ([[5,6,7,8],[9,8,7,6]])\n",
    "print (b)"
   ]
  },
  {
   "cell_type": "code",
   "execution_count": 5,
   "id": "ba4e10f0",
   "metadata": {},
   "outputs": [
    {
     "name": "stdout",
     "output_type": "stream",
     "text": [
      "[[[0 1 2 3]\n",
      "  [4 5 6 7]]\n",
      "\n",
      " [[8 9 8 7]\n",
      "  [6 5 4 3]]\n",
      "\n",
      " [[1 2 3 4]\n",
      "  [5 6 7 8]]]\n"
     ]
    }
   ],
   "source": [
    "c = np.array ([[[0,1,2,3],[4,5,6,7]],\n",
    "              [[8,9,8,7],[6,5,4,3]],\n",
    "              [[1,2,3,4],[5,6,7,8]]])\n",
    "print (c)"
   ]
  },
  {
   "cell_type": "code",
   "execution_count": 6,
   "id": "b32b2ccb",
   "metadata": {},
   "outputs": [
    {
     "name": "stdout",
     "output_type": "stream",
     "text": [
      "1\n",
      "2\n",
      "3\n"
     ]
    }
   ],
   "source": [
    "#pada konsep iini menunjukkan bahwa dari matriks (a,b,c) memiliki baris masing-masing (1,2,3)\n",
    "print (a.ndim)\n",
    "print (b.ndim)\n",
    "print (c.ndim)"
   ]
  },
  {
   "cell_type": "code",
   "execution_count": 7,
   "id": "f1cfb273",
   "metadata": {},
   "outputs": [
    {
     "name": "stdout",
     "output_type": "stream",
     "text": [
      "(5,)\n",
      "(2, 4)\n",
      "(3, 2, 4)\n"
     ]
    }
   ],
   "source": [
    "#konsep shape ini digunakan untuk menggambarkan siensi atau ukuran dari sebuah array atau matriks\n",
    "#Dalam NumPy, shape mengacu pada jumlah baris dan kolom dalam suatu array atau matriks. Shape dinyatakan sebagai tuple berisi dua bilangan bulat, yaitu (n_baris, n_kolom), yang menunjukkan jumlah baris dan kolom dalam array.\n",
    "print (a.shape)\n",
    "print (b.shape)\n",
    "#pada matriks c ini akan membentuk shape (3,2,4)\n",
    " #dimana 3 tersebut menunjukkan bahwa 'c' memiliki 3 matriks di dalamnya\n",
    " #dimana 2 tersebut menunjukkan bahwa  setiap matriks 'c' memiliki 2 baris\n",
    " #dimana 4 tersebut menunjukkan bahwa setiap matriks 'c' memiliki 4 kolom\n",
    "print (c.shape)"
   ]
  },
  {
   "cell_type": "markdown",
   "id": "66572182",
   "metadata": {},
   "source": [
    "### 5.20.2 Memanggil Anggota, Kolom dan Baris dengan Numpy"
   ]
  },
  {
   "cell_type": "code",
   "execution_count": 4,
   "id": "38751b5c",
   "metadata": {},
   "outputs": [
    {
     "name": "stdout",
     "output_type": "stream",
     "text": [
      "[[ 1  2  3  4]\n",
      " [ 5  6  7  8]\n",
      " [ 9 10 11 12]]\n"
     ]
    }
   ],
   "source": [
    "d = np.array([[1,2,3,4],[5,6,7,8],[9,10,11,12]])\n",
    "print (d)"
   ]
  },
  {
   "cell_type": "code",
   "execution_count": 5,
   "id": "6942c584",
   "metadata": {},
   "outputs": [
    {
     "data": {
      "text/plain": [
       "4"
      ]
     },
     "execution_count": 5,
     "metadata": {},
     "output_type": "execute_result"
    }
   ],
   "source": [
    "d[0,3]"
   ]
  },
  {
   "cell_type": "code",
   "execution_count": 6,
   "id": "248a9fb3",
   "metadata": {},
   "outputs": [
    {
     "name": "stdout",
     "output_type": "stream",
     "text": [
      "[ 3  7 11]\n",
      "[5 6 7 8]\n",
      "[2 3]\n",
      "[1 3]\n"
     ]
    }
   ],
   "source": [
    "print (d[:,2]) #akan mencetak matriks pada kolom 3\n",
    "print (d[1,:]) #akan mencetak matriks pada baris ke 2\n",
    "print (d[0,1:3])#Ini memanggil anggota pada baris ke 0 dan kolom ke 1 hingga ke 2 dari array d. \n",
    "print (d[0,0:3:2])"
   ]
  },
  {
   "cell_type": "markdown",
   "id": "021914cf",
   "metadata": {},
   "source": [
    "### 5.20.3 Matrix pada Numpy"
   ]
  },
  {
   "cell_type": "code",
   "execution_count": 12,
   "id": "fa7cd5e7",
   "metadata": {},
   "outputs": [
    {
     "data": {
      "text/plain": [
       "array([[1., 1., 1.],\n",
       "       [1., 1., 1.]])"
      ]
     },
     "execution_count": 12,
     "metadata": {},
     "output_type": "execute_result"
    }
   ],
   "source": [
    "np.ones ((2,3)) #merupakan syntax yang digunakan untuk mencetak makriks yang hanya memiliki anggota angka 1 saja"
   ]
  },
  {
   "cell_type": "code",
   "execution_count": 13,
   "id": "b90724d1",
   "metadata": {},
   "outputs": [
    {
     "data": {
      "text/plain": [
       "array([[0., 0.],\n",
       "       [0., 0.],\n",
       "       [0., 0.]])"
      ]
     },
     "execution_count": 13,
     "metadata": {},
     "output_type": "execute_result"
    }
   ],
   "source": [
    "np.zeros ((3,2))#merupakan syntax yang digunakan untuk mencetak matriks yang hanya memiliki anggota angka 0 saja"
   ]
  },
  {
   "cell_type": "code",
   "execution_count": 14,
   "id": "8d3ae119",
   "metadata": {},
   "outputs": [
    {
     "data": {
      "text/plain": [
       "array([[1., 0., 0., 0.],\n",
       "       [0., 1., 0., 0.],\n",
       "       [0., 0., 1., 0.],\n",
       "       [0., 0., 0., 1.]])"
      ]
     },
     "execution_count": 14,
     "metadata": {},
     "output_type": "execute_result"
    }
   ],
   "source": [
    "np.identity(4)#merupakan syntax yang digunakan untuk mencetak matriks identitas"
   ]
  },
  {
   "cell_type": "code",
   "execution_count": 15,
   "id": "70e61f47",
   "metadata": {},
   "outputs": [
    {
     "data": {
      "text/plain": [
       "array([[[1., 1., 1., 1.],\n",
       "        [1., 1., 1., 1.],\n",
       "        [1., 1., 1., 1.]],\n",
       "\n",
       "       [[1., 1., 1., 1.],\n",
       "        [1., 1., 1., 1.],\n",
       "        [1., 1., 1., 1.]]])"
      ]
     },
     "execution_count": 15,
     "metadata": {},
     "output_type": "execute_result"
    }
   ],
   "source": [
    "np.ones((2,3,4))"
   ]
  },
  {
   "cell_type": "code",
   "execution_count": 16,
   "id": "8e99689c",
   "metadata": {},
   "outputs": [
    {
     "data": {
      "text/plain": [
       "array([[9, 9],\n",
       "       [9, 9],\n",
       "       [9, 9]])"
      ]
     },
     "execution_count": 16,
     "metadata": {},
     "output_type": "execute_result"
    }
   ],
   "source": [
    "np.full((3,2),9)"
   ]
  },
  {
   "cell_type": "code",
   "execution_count": 17,
   "id": "57a8a60a",
   "metadata": {},
   "outputs": [
    {
     "data": {
      "text/plain": [
       "array([[0.71603913, 0.67953553, 0.24035459],\n",
       "       [0.18972362, 0.94360009, 0.77289232],\n",
       "       [0.37796883, 0.04915331, 0.51546362],\n",
       "       [0.55505142, 0.1649514 , 0.82618812]])"
      ]
     },
     "execution_count": 17,
     "metadata": {},
     "output_type": "execute_result"
    }
   ],
   "source": [
    "np.random.rand(4,3)"
   ]
  },
  {
   "cell_type": "code",
   "execution_count": 18,
   "id": "e3083774",
   "metadata": {},
   "outputs": [
    {
     "data": {
      "text/plain": [
       "array([[5, 7, 1, 5],\n",
       "       [3, 4, 1, 8],\n",
       "       [6, 9, 6, 3]])"
      ]
     },
     "execution_count": 18,
     "metadata": {},
     "output_type": "execute_result"
    }
   ],
   "source": [
    "np.random.randint(1,10,size=(3,4))"
   ]
  },
  {
   "cell_type": "code",
   "execution_count": 19,
   "id": "4a24d663",
   "metadata": {},
   "outputs": [
    {
     "name": "stdout",
     "output_type": "stream",
     "text": [
      "[[0. 0. 0. 0. 0. 0. 0. 0. 0. 0.]\n",
      " [0. 0. 0. 0. 0. 0. 0. 0. 0. 0.]\n",
      " [0. 0. 0. 0. 0. 0. 0. 0. 0. 0.]\n",
      " [0. 0. 0. 0. 0. 0. 0. 0. 0. 0.]\n",
      " [0. 0. 0. 0. 0. 0. 0. 0. 0. 0.]\n",
      " [0. 0. 0. 0. 0. 0. 0. 0. 0. 0.]\n",
      " [0. 0. 0. 0. 0. 0. 0. 0. 0. 0.]\n",
      " [0. 0. 0. 0. 0. 0. 0. 0. 0. 0.]\n",
      " [0. 0. 0. 0. 0. 0. 0. 0. 0. 0.]\n",
      " [0. 0. 0. 0. 0. 0. 0. 0. 0. 0.]]\n"
     ]
    }
   ],
   "source": [
    "a = np.zeros((10,10))\n",
    "print (a)"
   ]
  },
  {
   "cell_type": "code",
   "execution_count": 20,
   "id": "0127dd7d",
   "metadata": {},
   "outputs": [
    {
     "name": "stdout",
     "output_type": "stream",
     "text": [
      "[[1. 0. 0. 0. 0. 0. 0. 0. 0. 0.]\n",
      " [0. 1. 0. 0. 0. 0. 0. 0. 0. 0.]\n",
      " [0. 0. 1. 0. 0. 0. 0. 0. 0. 0.]\n",
      " [0. 0. 0. 1. 0. 0. 0. 0. 0. 0.]\n",
      " [0. 0. 0. 0. 1. 0. 0. 0. 0. 0.]\n",
      " [0. 0. 0. 0. 0. 1. 0. 0. 0. 0.]\n",
      " [0. 0. 0. 0. 0. 0. 1. 0. 0. 0.]\n",
      " [0. 0. 0. 0. 0. 0. 0. 1. 0. 0.]\n",
      " [0. 0. 0. 0. 0. 0. 0. 0. 1. 0.]\n",
      " [0. 0. 0. 0. 0. 0. 0. 0. 0. 1.]]\n"
     ]
    }
   ],
   "source": [
    "b = np.identity (10)\n",
    "print (b)"
   ]
  },
  {
   "cell_type": "code",
   "execution_count": 21,
   "id": "23ce7839",
   "metadata": {},
   "outputs": [
    {
     "name": "stdout",
     "output_type": "stream",
     "text": [
      "[[9. 0. 0. 0. 0. 0. 0. 0. 0. 0.]\n",
      " [0. 9. 0. 0. 0. 0. 0. 0. 0. 0.]\n",
      " [0. 0. 9. 0. 0. 0. 0. 0. 0. 0.]\n",
      " [0. 0. 0. 9. 0. 0. 0. 0. 0. 0.]\n",
      " [0. 0. 0. 0. 9. 0. 0. 0. 0. 0.]\n",
      " [0. 0. 0. 0. 0. 9. 0. 0. 0. 0.]\n",
      " [0. 0. 0. 0. 0. 0. 9. 0. 0. 0.]\n",
      " [0. 0. 0. 0. 0. 0. 0. 9. 0. 0.]\n",
      " [0. 0. 0. 0. 0. 0. 0. 0. 9. 0.]\n",
      " [0. 0. 0. 0. 0. 0. 0. 0. 0. 9.]]\n"
     ]
    }
   ],
   "source": [
    "c = 9*b\n",
    "print (c)"
   ]
  },
  {
   "cell_type": "code",
   "execution_count": 22,
   "id": "e1000fc6",
   "metadata": {},
   "outputs": [
    {
     "name": "stdout",
     "output_type": "stream",
     "text": [
      "[[9. 1. 1. 1. 1. 1. 1. 1.]\n",
      " [1. 9. 1. 1. 1. 1. 1. 1.]\n",
      " [1. 1. 9. 1. 1. 1. 1. 1.]\n",
      " [1. 1. 1. 9. 1. 1. 1. 1.]\n",
      " [1. 1. 1. 1. 9. 1. 1. 1.]\n",
      " [1. 1. 1. 1. 1. 9. 1. 1.]\n",
      " [1. 1. 1. 1. 1. 1. 9. 1.]\n",
      " [1. 1. 1. 1. 1. 1. 1. 9.]]\n"
     ]
    }
   ],
   "source": [
    "d = np.ones((8,8))\n",
    "e = np.identity(8)*8\n",
    "f = d+e\n",
    "print (f)"
   ]
  },
  {
   "cell_type": "code",
   "execution_count": 23,
   "id": "a2054537",
   "metadata": {},
   "outputs": [
    {
     "name": "stdout",
     "output_type": "stream",
     "text": [
      "[[9. 0. 0. 0. 0. 0. 0. 0. 0. 0.]\n",
      " [0. 9. 1. 1. 1. 1. 1. 1. 1. 0.]\n",
      " [0. 1. 9. 1. 1. 1. 1. 1. 1. 0.]\n",
      " [0. 1. 1. 9. 1. 1. 1. 1. 1. 0.]\n",
      " [0. 1. 1. 1. 9. 1. 1. 1. 1. 0.]\n",
      " [0. 1. 1. 1. 1. 9. 1. 1. 1. 0.]\n",
      " [0. 1. 1. 1. 1. 1. 9. 1. 1. 0.]\n",
      " [0. 1. 1. 1. 1. 1. 1. 9. 1. 0.]\n",
      " [0. 1. 1. 1. 1. 1. 1. 1. 9. 0.]\n",
      " [0. 0. 0. 0. 0. 0. 0. 0. 0. 9.]]\n"
     ]
    }
   ],
   "source": [
    "c[1:-1,1:-1] = f\n",
    "print (c)"
   ]
  },
  {
   "cell_type": "code",
   "execution_count": 24,
   "id": "7172429c",
   "metadata": {},
   "outputs": [
    {
     "name": "stdout",
     "output_type": "stream",
     "text": [
      "[[9. 0. 0. 0. 0. 0. 0. 0. 0. 0.]\n",
      " [0. 9. 1. 1. 1. 1. 1. 1. 1. 0.]\n",
      " [0. 1. 9. 0. 0. 0. 0. 0. 1. 0.]\n",
      " [0. 1. 0. 9. 0. 0. 0. 0. 1. 0.]\n",
      " [0. 1. 0. 0. 9. 0. 0. 0. 1. 0.]\n",
      " [0. 1. 0. 0. 0. 9. 0. 0. 1. 0.]\n",
      " [0. 1. 0. 0. 0. 0. 9. 0. 1. 0.]\n",
      " [0. 1. 0. 0. 0. 0. 0. 9. 1. 0.]\n",
      " [0. 1. 1. 1. 1. 1. 1. 1. 9. 0.]\n",
      " [0. 0. 0. 0. 0. 0. 0. 0. 0. 9.]]\n"
     ]
    }
   ],
   "source": [
    "g = np.identity(6)*9\n",
    "c[2:-2,2:-2] = g\n",
    "print (c)"
   ]
  },
  {
   "cell_type": "code",
   "execution_count": 25,
   "id": "f2644c09",
   "metadata": {},
   "outputs": [
    {
     "name": "stdout",
     "output_type": "stream",
     "text": [
      "[[9. 2. 2. 2.]\n",
      " [2. 9. 2. 2.]\n",
      " [2. 2. 9. 2.]\n",
      " [2. 2. 2. 9.]]\n"
     ]
    }
   ],
   "source": [
    "h = np.ones ((4,4))*2\n",
    "i = np.identity(4)* 7\n",
    "j = h + i\n",
    "print(j)"
   ]
  },
  {
   "cell_type": "code",
   "execution_count": 26,
   "id": "76608d0a",
   "metadata": {},
   "outputs": [
    {
     "name": "stdout",
     "output_type": "stream",
     "text": [
      "[[9. 0. 0. 0. 0. 0. 0. 0. 0. 0.]\n",
      " [0. 9. 1. 1. 1. 1. 1. 1. 1. 0.]\n",
      " [0. 1. 9. 0. 0. 0. 0. 0. 1. 0.]\n",
      " [0. 1. 0. 9. 2. 2. 2. 0. 1. 0.]\n",
      " [0. 1. 0. 2. 9. 2. 2. 0. 1. 0.]\n",
      " [0. 1. 0. 2. 2. 9. 2. 0. 1. 0.]\n",
      " [0. 1. 0. 2. 2. 2. 9. 0. 1. 0.]\n",
      " [0. 1. 0. 0. 0. 0. 0. 9. 1. 0.]\n",
      " [0. 1. 1. 1. 1. 1. 1. 1. 9. 0.]\n",
      " [0. 0. 0. 0. 0. 0. 0. 0. 0. 9.]]\n"
     ]
    }
   ],
   "source": [
    "c[3:-3,3:-3] = j\n",
    "print (c)"
   ]
  },
  {
   "cell_type": "code",
   "execution_count": 27,
   "id": "4ae8dc94",
   "metadata": {},
   "outputs": [
    {
     "name": "stdout",
     "output_type": "stream",
     "text": [
      "[[9. 0. 0. 0. 0. 0. 0. 0. 0. 0.]\n",
      " [0. 9. 1. 1. 1. 1. 1. 1. 1. 0.]\n",
      " [0. 1. 9. 0. 0. 0. 0. 0. 1. 0.]\n",
      " [0. 1. 0. 9. 2. 2. 2. 0. 1. 0.]\n",
      " [0. 1. 0. 2. 9. 0. 2. 0. 1. 0.]\n",
      " [0. 1. 0. 2. 0. 9. 2. 0. 1. 0.]\n",
      " [0. 1. 0. 2. 2. 2. 9. 0. 1. 0.]\n",
      " [0. 1. 0. 0. 0. 0. 0. 9. 1. 0.]\n",
      " [0. 1. 1. 1. 1. 1. 1. 1. 9. 0.]\n",
      " [0. 0. 0. 0. 0. 0. 0. 0. 0. 9.]]\n"
     ]
    }
   ],
   "source": [
    "k = np.identity(2)*9\n",
    "c [4:-4,4:-4] = k\n",
    "print (c)"
   ]
  },
  {
   "cell_type": "markdown",
   "id": "9cbc9a28",
   "metadata": {},
   "source": [
    "### 5.20.4 Copy pada Numpy"
   ]
  },
  {
   "cell_type": "markdown",
   "id": "2b035631",
   "metadata": {},
   "source": [
    "Sering sekali kita menduplikat suatu variabel dengan maksud untuk memper\u0002cepat pekerjaan kita. Akan tetapi sering tanpa disadari ikatan persamaan dalam Numpy sedemikian eratnya sehingga saat anggota variabel baru dirubah, dampaknya juga akan merubah variabel asal. Untuk menghindari perubahan variabel awal yang tidak dikehendaki maka diperlukan perintah copy."
   ]
  },
  {
   "cell_type": "code",
   "execution_count": 7,
   "id": "bd67e02d",
   "metadata": {},
   "outputs": [
    {
     "name": "stdout",
     "output_type": "stream",
     "text": [
      "[1 2 3 4 5]\n"
     ]
    }
   ],
   "source": [
    "a = np.array ([1,2,3,4,5])\n",
    "print (a)"
   ]
  },
  {
   "cell_type": "code",
   "execution_count": 8,
   "id": "f6c2f250",
   "metadata": {},
   "outputs": [
    {
     "name": "stdout",
     "output_type": "stream",
     "text": [
      "[1 2 3 4 5]\n"
     ]
    }
   ],
   "source": [
    "b = a\n",
    "print (b)"
   ]
  },
  {
   "cell_type": "code",
   "execution_count": 9,
   "id": "2af96766",
   "metadata": {},
   "outputs": [
    {
     "name": "stdout",
     "output_type": "stream",
     "text": [
      "[10  2  3  4  5]\n"
     ]
    }
   ],
   "source": [
    "b[0] = 10\n",
    "print (b)"
   ]
  },
  {
   "cell_type": "code",
   "execution_count": 10,
   "id": "55bc11b9",
   "metadata": {},
   "outputs": [
    {
     "name": "stdout",
     "output_type": "stream",
     "text": [
      "[10  2  3  4  5]\n"
     ]
    }
   ],
   "source": [
    "print (a)"
   ]
  },
  {
   "cell_type": "code",
   "execution_count": 12,
   "id": "6a09ce2b",
   "metadata": {},
   "outputs": [
    {
     "name": "stdout",
     "output_type": "stream",
     "text": [
      "[1 2 3 4 5]\n"
     ]
    }
   ],
   "source": [
    "c = np.array ([1,2,3,4,5])\n",
    "print (c)"
   ]
  },
  {
   "cell_type": "code",
   "execution_count": 13,
   "id": "0487d3e5",
   "metadata": {},
   "outputs": [
    {
     "name": "stdout",
     "output_type": "stream",
     "text": [
      "[1 2 3 4 5]\n"
     ]
    }
   ],
   "source": [
    "d = c.copy()\n",
    "print (d)"
   ]
  },
  {
   "cell_type": "code",
   "execution_count": 14,
   "id": "a039c16a",
   "metadata": {},
   "outputs": [
    {
     "name": "stdout",
     "output_type": "stream",
     "text": [
      "[10  2  3  4  5]\n"
     ]
    }
   ],
   "source": [
    "d [0] = 10 \n",
    "print (d)"
   ]
  },
  {
   "cell_type": "code",
   "execution_count": 15,
   "id": "d16a5ac1",
   "metadata": {},
   "outputs": [
    {
     "name": "stdout",
     "output_type": "stream",
     "text": [
      "[1 2 3 4 5]\n"
     ]
    }
   ],
   "source": [
    "print (c)"
   ]
  },
  {
   "cell_type": "code",
   "execution_count": 16,
   "id": "0b9f7d28",
   "metadata": {},
   "outputs": [
    {
     "name": "stdout",
     "output_type": "stream",
     "text": [
      "[[[0 1 2 3]\n",
      "  [4 5 6 7]]\n",
      "\n",
      " [[8 9 8 7]\n",
      "  [6 5 4 3]]\n",
      "\n",
      " [[1 2 3 4]\n",
      "  [5 6 7 8]]]\n"
     ]
    }
   ],
   "source": [
    "c = np.array ([[[0,1,2,3],[4,5,6,7]],\n",
    "              [[8,9,8,7],[6,5,4,3]],\n",
    "              [[1,2,3,4],[5,6,7,8]]])\n",
    "print (c)"
   ]
  },
  {
   "cell_type": "code",
   "execution_count": 17,
   "id": "cc45c252",
   "metadata": {},
   "outputs": [
    {
     "name": "stdout",
     "output_type": "stream",
     "text": [
      "[[[0 1 2 3]\n",
      "  [7 7 7 7]]\n",
      "\n",
      " [[8 9 8 7]\n",
      "  [6 5 4 3]]\n",
      "\n",
      " [[1 2 3 4]\n",
      "  [5 6 7 8]]]\n"
     ]
    }
   ],
   "source": [
    "c [0,1:2] = 7\n",
    "print (c)"
   ]
  },
  {
   "cell_type": "markdown",
   "id": "ad39ad24",
   "metadata": {},
   "source": [
    "### 5.20.5 Operasi Matematika pada Numpy"
   ]
  },
  {
   "cell_type": "code",
   "execution_count": 18,
   "id": "75b7ab56",
   "metadata": {},
   "outputs": [
    {
     "data": {
      "text/plain": [
       "array([12,  4,  5,  6,  7])"
      ]
     },
     "execution_count": 18,
     "metadata": {},
     "output_type": "execute_result"
    }
   ],
   "source": [
    "a+2"
   ]
  },
  {
   "cell_type": "code",
   "execution_count": 19,
   "id": "51638c9d",
   "metadata": {},
   "outputs": [
    {
     "data": {
      "text/plain": [
       "array([8, 0, 1, 2, 3])"
      ]
     },
     "execution_count": 19,
     "metadata": {},
     "output_type": "execute_result"
    }
   ],
   "source": [
    "a-2"
   ]
  },
  {
   "cell_type": "code",
   "execution_count": 20,
   "id": "7ba6ac77",
   "metadata": {},
   "outputs": [
    {
     "data": {
      "text/plain": [
       "array([20,  4,  6,  8, 10])"
      ]
     },
     "execution_count": 20,
     "metadata": {},
     "output_type": "execute_result"
    }
   ],
   "source": [
    "a*2"
   ]
  },
  {
   "cell_type": "code",
   "execution_count": 21,
   "id": "debfe87d",
   "metadata": {},
   "outputs": [
    {
     "data": {
      "text/plain": [
       "array([5. , 1. , 1.5, 2. , 2.5])"
      ]
     },
     "execution_count": 21,
     "metadata": {},
     "output_type": "execute_result"
    }
   ],
   "source": [
    "a/2"
   ]
  },
  {
   "cell_type": "code",
   "execution_count": 22,
   "id": "d81cb457",
   "metadata": {},
   "outputs": [
    {
     "data": {
      "text/plain": [
       "array([100,   4,   9,  16,  25], dtype=int32)"
      ]
     },
     "execution_count": 22,
     "metadata": {},
     "output_type": "execute_result"
    }
   ],
   "source": [
    "a**2"
   ]
  },
  {
   "cell_type": "code",
   "execution_count": 23,
   "id": "46d4ed45",
   "metadata": {},
   "outputs": [
    {
     "name": "stdout",
     "output_type": "stream",
     "text": [
      "[ 6  7  8  9 10]\n"
     ]
    }
   ],
   "source": [
    "b = np.array ([6,7,8,9,10])\n",
    "print (b)"
   ]
  },
  {
   "cell_type": "code",
   "execution_count": 25,
   "id": "7f5ba5cb",
   "metadata": {},
   "outputs": [
    {
     "name": "stdout",
     "output_type": "stream",
     "text": [
      "[ 6  7  8  9 10]\n"
     ]
    }
   ],
   "source": [
    "b = np.array ([6,7,8,9,10])\n",
    "print (b)"
   ]
  },
  {
   "cell_type": "code",
   "execution_count": 26,
   "id": "ace93449",
   "metadata": {},
   "outputs": [
    {
     "data": {
      "text/plain": [
       "array([16,  9, 11, 13, 15])"
      ]
     },
     "execution_count": 26,
     "metadata": {},
     "output_type": "execute_result"
    }
   ],
   "source": [
    "a+b"
   ]
  },
  {
   "cell_type": "code",
   "execution_count": 27,
   "id": "6f7c20ad",
   "metadata": {},
   "outputs": [
    {
     "data": {
      "text/plain": [
       "array([ 4, -5, -5, -5, -5])"
      ]
     },
     "execution_count": 27,
     "metadata": {},
     "output_type": "execute_result"
    }
   ],
   "source": [
    "a-b"
   ]
  },
  {
   "cell_type": "code",
   "execution_count": 28,
   "id": "685cdbc1",
   "metadata": {},
   "outputs": [
    {
     "data": {
      "text/plain": [
       "array([60, 14, 24, 36, 50])"
      ]
     },
     "execution_count": 28,
     "metadata": {},
     "output_type": "execute_result"
    }
   ],
   "source": [
    "a*b"
   ]
  },
  {
   "cell_type": "code",
   "execution_count": 29,
   "id": "600cffaf",
   "metadata": {},
   "outputs": [
    {
     "data": {
      "text/plain": [
       "array([1.66666667, 0.28571429, 0.375     , 0.44444444, 0.5       ])"
      ]
     },
     "execution_count": 29,
     "metadata": {},
     "output_type": "execute_result"
    }
   ],
   "source": [
    "a/b"
   ]
  },
  {
   "cell_type": "code",
   "execution_count": 30,
   "id": "08ee2eac",
   "metadata": {},
   "outputs": [
    {
     "data": {
      "text/plain": [
       "array([1000000,     128,    6561,  262144, 9765625], dtype=int32)"
      ]
     },
     "execution_count": 30,
     "metadata": {},
     "output_type": "execute_result"
    }
   ],
   "source": [
    "a**b"
   ]
  },
  {
   "cell_type": "code",
   "execution_count": 32,
   "id": "4ac0eb15",
   "metadata": {},
   "outputs": [
    {
     "data": {
      "text/plain": [
       "array([1, 0, 0, 0, 0], dtype=int32)"
      ]
     },
     "execution_count": 32,
     "metadata": {},
     "output_type": "execute_result"
    }
   ],
   "source": [
    "a//b"
   ]
  },
  {
   "cell_type": "code",
   "execution_count": 33,
   "id": "ba919f20",
   "metadata": {},
   "outputs": [
    {
     "data": {
      "text/plain": [
       "array([-0.83907153, -0.41614684, -0.9899925 , -0.65364362,  0.28366219])"
      ]
     },
     "execution_count": 33,
     "metadata": {},
     "output_type": "execute_result"
    }
   ],
   "source": [
    "np.cos (a)"
   ]
  },
  {
   "cell_type": "code",
   "execution_count": 34,
   "id": "f2816d49",
   "metadata": {},
   "outputs": [
    {
     "data": {
      "text/plain": [
       "array([-0.54402111,  0.90929743,  0.14112001, -0.7568025 , -0.95892427])"
      ]
     },
     "execution_count": 34,
     "metadata": {},
     "output_type": "execute_result"
    }
   ],
   "source": [
    "np.sin (a)"
   ]
  },
  {
   "cell_type": "code",
   "execution_count": 35,
   "id": "e4dddb09",
   "metadata": {},
   "outputs": [
    {
     "data": {
      "text/plain": [
       "array([ 0.64836083, -2.18503986, -0.14254654,  1.15782128, -3.38051501])"
      ]
     },
     "execution_count": 35,
     "metadata": {},
     "output_type": "execute_result"
    }
   ],
   "source": [
    "np.tan(a)"
   ]
  },
  {
   "cell_type": "code",
   "execution_count": 38,
   "id": "01a82f52",
   "metadata": {},
   "outputs": [
    {
     "name": "stdout",
     "output_type": "stream",
     "text": [
      "[1.10132329e+04 3.62686041e+00 1.00178749e+01 2.72899172e+01\n",
      " 7.42032106e+01]\n",
      "[1.10132329e+04 3.76219569e+00 1.00676620e+01 2.73082328e+01\n",
      " 7.42099485e+01]\n",
      "[1.         0.96402758 0.99505475 0.9993293  0.9999092 ]\n"
     ]
    }
   ],
   "source": [
    "#untuk menghitung hiperbolik dari suatu array dapat menggunakan dengan operasi berikut ini\n",
    "print (np.sinh(a))\n",
    "print (np.cosh(a))\n",
    "print (np.tanh(a))"
   ]
  },
  {
   "cell_type": "code",
   "execution_count": 39,
   "id": "e533cbd9",
   "metadata": {},
   "outputs": [
    {
     "data": {
      "text/plain": [
       "array([3.16227766, 1.41421356, 1.73205081, 2.        , 2.23606798])"
      ]
     },
     "execution_count": 39,
     "metadata": {},
     "output_type": "execute_result"
    }
   ],
   "source": [
    "np.sqrt(a) #untuk menghitung dengan operasi akar"
   ]
  },
  {
   "cell_type": "markdown",
   "id": "72dad89a",
   "metadata": {},
   "source": [
    "### 5.20.6 Perkalian Matrik pada Numpy"
   ]
  },
  {
   "cell_type": "markdown",
   "id": "28fc21e2",
   "metadata": {},
   "source": [
    "Dapat diamati bahwa operasi matematika pada suatu matrik dengan Numpy akan mengoperaikan elemen yang baris dan kolomnya sama. Tentunya hal ini akan memberikan hasil berbeda jika yang kita kehendaki adalah perkalian dua matrik. Perkalian matrik pada Numpy dapat menggunakan perintah matmul. Perlu dijadikan perhatian tentang ukuran matrik yang akan dikalikan harus sesuai dengan persyaratan. Misalnya matrik ukuran (2x3) dapat dikalikan den\u0002gan matrik ukuran (3x4)."
   ]
  },
  {
   "cell_type": "code",
   "execution_count": 45,
   "id": "f851d06e",
   "metadata": {},
   "outputs": [
    {
     "name": "stdout",
     "output_type": "stream",
     "text": [
      "[[1 2 3 4]\n",
      " [5 6 7 8]]\n"
     ]
    }
   ],
   "source": [
    "a = np.array ([[1,2,3,4],[5,6,7,8]])\n",
    "print (a)"
   ]
  },
  {
   "cell_type": "code",
   "execution_count": 46,
   "id": "80b6fa0c",
   "metadata": {},
   "outputs": [
    {
     "name": "stdout",
     "output_type": "stream",
     "text": [
      "[[ 9 10 11 12]\n",
      " [13 14 15 16]]\n"
     ]
    }
   ],
   "source": [
    "b = np.array ([[9,10,11,12], [13,14,15,16]])\n",
    "print (b)"
   ]
  },
  {
   "cell_type": "code",
   "execution_count": 47,
   "id": "c2ef821e",
   "metadata": {},
   "outputs": [
    {
     "name": "stdout",
     "output_type": "stream",
     "text": [
      "[[  9  20  33  48]\n",
      " [ 65  84 105 128]]\n"
     ]
    }
   ],
   "source": [
    "c = a*b\n",
    "print (c)"
   ]
  },
  {
   "cell_type": "code",
   "execution_count": 56,
   "id": "e62c0433",
   "metadata": {},
   "outputs": [
    {
     "name": "stdout",
     "output_type": "stream",
     "text": [
      "[[211 230 249 268]\n",
      " [255 278 301 324]\n",
      " [299 326 353 380]\n",
      " [343 374 405 436]]\n"
     ]
    }
   ],
   "source": [
    "d = np.matmul(a, b)\n",
    "print (d)"
   ]
  },
  {
   "cell_type": "code",
   "execution_count": 58,
   "id": "d559ab5c",
   "metadata": {},
   "outputs": [
    {
     "name": "stdout",
     "output_type": "stream",
     "text": [
      "[[ 9 10]\n",
      " [11 12]\n",
      " [13 14]\n",
      " [15 16]]\n"
     ]
    }
   ],
   "source": [
    "e = np.array ([[9,10],[11,12],[13,14],[15,16]])\n",
    "print (e)"
   ]
  },
  {
   "cell_type": "code",
   "execution_count": 59,
   "id": "8f52fd60",
   "metadata": {},
   "outputs": [
    {
     "ename": "ValueError",
     "evalue": "matmul: Input operand 1 has a mismatch in its core dimension 0, with gufunc signature (n?,k),(k,m?)->(n?,m?) (size 4 is different from 2)",
     "output_type": "error",
     "traceback": [
      "\u001b[1;31m---------------------------------------------------------------------------\u001b[0m",
      "\u001b[1;31mValueError\u001b[0m                                Traceback (most recent call last)",
      "\u001b[1;32m~\\AppData\\Local\\Temp\\ipykernel_13116\\404123452.py\u001b[0m in \u001b[0;36m<module>\u001b[1;34m\u001b[0m\n\u001b[1;32m----> 1\u001b[1;33m \u001b[0mf\u001b[0m \u001b[1;33m=\u001b[0m \u001b[0mnp\u001b[0m\u001b[1;33m.\u001b[0m\u001b[0mmatmul\u001b[0m\u001b[1;33m(\u001b[0m\u001b[0ma\u001b[0m\u001b[1;33m,\u001b[0m \u001b[0me\u001b[0m\u001b[1;33m)\u001b[0m\u001b[1;33m\u001b[0m\u001b[1;33m\u001b[0m\u001b[0m\n\u001b[0m\u001b[0;32m      2\u001b[0m \u001b[0mprint\u001b[0m \u001b[1;33m(\u001b[0m\u001b[0mf\u001b[0m\u001b[1;33m)\u001b[0m\u001b[1;33m\u001b[0m\u001b[1;33m\u001b[0m\u001b[0m\n",
      "\u001b[1;31mValueError\u001b[0m: matmul: Input operand 1 has a mismatch in its core dimension 0, with gufunc signature (n?,k),(k,m?)->(n?,m?) (size 4 is different from 2)"
     ]
    }
   ],
   "source": [
    "f = np.matmul(a, e)\n",
    "print (f)"
   ]
  },
  {
   "cell_type": "code",
   "execution_count": 61,
   "id": "03b62400",
   "metadata": {},
   "outputs": [
    {
     "name": "stdout",
     "output_type": "stream",
     "text": [
      "[[ 81 100]\n",
      " [121 144]\n",
      " [169 196]\n",
      " [225 256]]\n"
     ]
    }
   ],
   "source": [
    "g = a*e\n",
    "print (g)"
   ]
  },
  {
   "cell_type": "markdown",
   "id": "127ba838",
   "metadata": {},
   "source": [
    "### 5.20.7 min, max, dan sum pada Numpy"
   ]
  },
  {
   "cell_type": "markdown",
   "id": "7b5811d7",
   "metadata": {},
   "source": [
    "Perintah min, max dan sum cukup sering digunakan untuk mengetahui nilai minimum, maksimum dan penjumlahan."
   ]
  },
  {
   "cell_type": "code",
   "execution_count": 63,
   "id": "10ca44fe",
   "metadata": {},
   "outputs": [
    {
     "name": "stdout",
     "output_type": "stream",
     "text": [
      "[[ 1  2  3  4]\n",
      " [ 5  6  7  8]\n",
      " [ 9 10 11 12]]\n"
     ]
    }
   ],
   "source": [
    "a = np.array ([[1,2,3,4],\n",
    "              [5,6,7,8],\n",
    "              [9,10,11,12]])\n",
    "print (a)"
   ]
  },
  {
   "cell_type": "code",
   "execution_count": 65,
   "id": "a1ee1072",
   "metadata": {},
   "outputs": [
    {
     "name": "stdout",
     "output_type": "stream",
     "text": [
      "1\n"
     ]
    }
   ],
   "source": [
    "b = np.min(a)\n",
    "print (b)"
   ]
  },
  {
   "cell_type": "code",
   "execution_count": 75,
   "id": "a4f79d5e",
   "metadata": {},
   "outputs": [
    {
     "name": "stdout",
     "output_type": "stream",
     "text": [
      "[1 2 3 4]\n",
      "[1 5 9]\n"
     ]
    }
   ],
   "source": [
    "#parameter opsional axis ini digunakan untuk menentukan dimensi mana yang akan diambil nilai minimumnya\n",
    "c = np.min (a,axis = 0)\n",
    "print (c)\n",
    "d = np.min (a,axis=1)\n",
    "print (d)"
   ]
  },
  {
   "cell_type": "code",
   "execution_count": 69,
   "id": "10b44743",
   "metadata": {},
   "outputs": [
    {
     "name": "stdout",
     "output_type": "stream",
     "text": [
      "[[ 1  2  3  4]\n",
      " [ 5  6  7  8]\n",
      " [ 9 10 11 12]]\n"
     ]
    }
   ],
   "source": [
    "e = np.max(a)\n",
    "print (a)"
   ]
  },
  {
   "cell_type": "code",
   "execution_count": 70,
   "id": "a84bedae",
   "metadata": {},
   "outputs": [
    {
     "name": "stdout",
     "output_type": "stream",
     "text": [
      "[ 9 10 11 12]\n"
     ]
    }
   ],
   "source": [
    "f = np.max(a,axis=0)\n",
    "print (f)"
   ]
  },
  {
   "cell_type": "code",
   "execution_count": 71,
   "id": "d31ed084",
   "metadata": {},
   "outputs": [
    {
     "name": "stdout",
     "output_type": "stream",
     "text": [
      "[ 4  8 12]\n"
     ]
    }
   ],
   "source": [
    "g = np.max (a,axis=1)\n",
    "print (g)"
   ]
  },
  {
   "cell_type": "code",
   "execution_count": 72,
   "id": "b6d33b65",
   "metadata": {},
   "outputs": [
    {
     "name": "stdout",
     "output_type": "stream",
     "text": [
      "[15 18 21 24]\n"
     ]
    }
   ],
   "source": [
    "h = np.sum(a,axis=0)\n",
    "print (h)"
   ]
  },
  {
   "cell_type": "code",
   "execution_count": 76,
   "id": "ac16075a",
   "metadata": {},
   "outputs": [
    {
     "name": "stdout",
     "output_type": "stream",
     "text": [
      "[10 26 42]\n"
     ]
    }
   ],
   "source": [
    "i = np.sum(a,axis=1)\n",
    "print(i)"
   ]
  },
  {
   "cell_type": "code",
   "execution_count": null,
   "id": "29aea749",
   "metadata": {},
   "outputs": [],
   "source": []
  }
 ],
 "metadata": {
  "kernelspec": {
   "display_name": "Python 3 (ipykernel)",
   "language": "python",
   "name": "python3"
  },
  "language_info": {
   "codemirror_mode": {
    "name": "ipython",
    "version": 3
   },
   "file_extension": ".py",
   "mimetype": "text/x-python",
   "name": "python",
   "nbconvert_exporter": "python",
   "pygments_lexer": "ipython3",
   "version": "3.9.13"
  }
 },
 "nbformat": 4,
 "nbformat_minor": 5
}
